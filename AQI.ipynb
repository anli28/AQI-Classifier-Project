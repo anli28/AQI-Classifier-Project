{
 "cells": [
  {
   "cell_type": "code",
   "execution_count": 1,
   "id": "497b6978",
   "metadata": {
    "deletable": false,
    "editable": false
   },
   "outputs": [],
   "source": [
    "# Initialize Otter\n",
    "import otter\n",
    "grader = otter.Notebook(\"AQI.ipynb\")"
   ]
  },
  {
   "cell_type": "markdown",
   "id": "3c611a37",
   "metadata": {},
   "source": [
    "# Final Project: Air Quality Dataset\n",
    "## Analyzing and Predicting AQI Data through Modeling\n",
    "## Due Date: Thursday, December 17th, 11:59 PM\n",
    "## Collaboration Policy\n",
    "\n",
    "Data science is a collaborative activity. While you may talk with other groups about\n",
    "the project, we ask that you **write your solutions individually**. If you do\n",
    "discuss the assignments with others outside of your group please **include their names** at the top\n",
    "of your notebook."
   ]
  },
  {
   "cell_type": "markdown",
   "id": "299ff619",
   "metadata": {},
   "source": [
    "## This Assignment\n",
    "\n",
    "In this final project, we will investigate AQI data for the year 2020 from **USA EPA** data. All the data used for this project can be accessed from the [EPA Website](https://aqs.epa.gov/aqsweb/airdata/download_files.html), which we will pull from directly in this notebook. This dataset contains geographical and time-series data on various factors that contribute to AQI from all government sites. The main goal at the end for you will be to understand how AQI varies both geographically and over time, and use your analysis (as well as other data that you can find) to be predict AQI at a certain point in time for various locations in California.\n",
    "\n",
    "Through this final project, you will demonstrate your experience with:\n",
    "* EDA and merging on location using Pandas\n",
    "* Unsupervised and supervised learning techniques\n",
    "* Visualization and interpolation\n",
    "\n",
    "This is **part 1** of the project, which includes the data cleaning, guided EDA and open-ended EDA components of the project. This will help you for part 2, where you will be completing the modeling component. "
   ]
  },
  {
   "cell_type": "code",
   "execution_count": 2,
   "id": "5e624bff",
   "metadata": {},
   "outputs": [],
   "source": [
    "import pandas as pd\n",
    "import numpy as np\n",
    "import seaborn as sns\n",
    "import matplotlib.pyplot as plt\n",
    "import re\n",
    "import geopandas as gpd\n",
    "\n",
    "import os\n",
    "import requests, zipfile, io\n",
    "\n",
    "import warnings\n",
    "warnings.filterwarnings('ignore')"
   ]
  },
  {
   "cell_type": "markdown",
   "id": "105f2ec9",
   "metadata": {},
   "source": [
    "<br/><br/>\n",
    "\n",
    "---\n",
    "## Section 1: Data Cleaning\n",
    "\n",
    "As mentioned, we will be using the **US EPA** data from the EPA website. Below is a dataframe of the files we will be using for the project. The following two cells will download the data and put it into a dictionary called `epa_data`."
   ]
  },
  {
   "cell_type": "code",
   "execution_count": 3,
   "id": "c875d9e9",
   "metadata": {},
   "outputs": [
    {
     "data": {
      "text/html": [
       "<div>\n",
       "<style scoped>\n",
       "    .dataframe tbody tr th:only-of-type {\n",
       "        vertical-align: middle;\n",
       "    }\n",
       "\n",
       "    .dataframe tbody tr th {\n",
       "        vertical-align: top;\n",
       "    }\n",
       "\n",
       "    .dataframe thead th {\n",
       "        text-align: right;\n",
       "    }\n",
       "</style>\n",
       "<table border=\"1\" class=\"dataframe\">\n",
       "  <thead>\n",
       "    <tr style=\"text-align: right;\">\n",
       "      <th></th>\n",
       "      <th>name</th>\n",
       "      <th>epa_filename</th>\n",
       "    </tr>\n",
       "  </thead>\n",
       "  <tbody>\n",
       "    <tr>\n",
       "      <th>0</th>\n",
       "      <td>annual_county_aqi</td>\n",
       "      <td>annual_aqi_by_county_2020</td>\n",
       "    </tr>\n",
       "    <tr>\n",
       "      <th>1</th>\n",
       "      <td>daily_county_aqi</td>\n",
       "      <td>daily_aqi_by_county_2020</td>\n",
       "    </tr>\n",
       "    <tr>\n",
       "      <th>2</th>\n",
       "      <td>daily_ozone</td>\n",
       "      <td>daily_44201_2020</td>\n",
       "    </tr>\n",
       "    <tr>\n",
       "      <th>3</th>\n",
       "      <td>daily_so2</td>\n",
       "      <td>daily_42401_2020</td>\n",
       "    </tr>\n",
       "    <tr>\n",
       "      <th>4</th>\n",
       "      <td>daily_co</td>\n",
       "      <td>daily_42101_2020</td>\n",
       "    </tr>\n",
       "    <tr>\n",
       "      <th>5</th>\n",
       "      <td>daily_no2</td>\n",
       "      <td>daily_42602_2020</td>\n",
       "    </tr>\n",
       "    <tr>\n",
       "      <th>6</th>\n",
       "      <td>daily_temp</td>\n",
       "      <td>daily_WIND_2020</td>\n",
       "    </tr>\n",
       "    <tr>\n",
       "      <th>7</th>\n",
       "      <td>daily_wind</td>\n",
       "      <td>daily_TEMP_2020</td>\n",
       "    </tr>\n",
       "    <tr>\n",
       "      <th>8</th>\n",
       "      <td>aqs_sites</td>\n",
       "      <td>aqs_sites</td>\n",
       "    </tr>\n",
       "  </tbody>\n",
       "</table>\n",
       "</div>"
      ],
      "text/plain": [
       "                name               epa_filename\n",
       "0  annual_county_aqi  annual_aqi_by_county_2020\n",
       "1   daily_county_aqi   daily_aqi_by_county_2020\n",
       "2        daily_ozone           daily_44201_2020\n",
       "3          daily_so2           daily_42401_2020\n",
       "4           daily_co           daily_42101_2020\n",
       "5          daily_no2           daily_42602_2020\n",
       "6         daily_temp            daily_WIND_2020\n",
       "7         daily_wind            daily_TEMP_2020\n",
       "8          aqs_sites                  aqs_sites"
      ]
     },
     "execution_count": 3,
     "metadata": {},
     "output_type": "execute_result"
    }
   ],
   "source": [
    "epa_weburl = \"https://web.archive.org/web/20211118232504/https://aqs.epa.gov/aqsweb/airdata/\"\n",
    "epa_filenames = pd.read_csv(\"data/epa_filenames.csv\")\n",
    "epa_filenames"
   ]
  },
  {
   "cell_type": "markdown",
   "id": "37d5a045",
   "metadata": {},
   "source": [
    "Below is code that we used to extract the code from the AQI website, which we encourage you to understand! This will pull directly from the website urls and put it into your `data/` folder. "
   ]
  },
  {
   "cell_type": "code",
   "execution_count": 4,
   "id": "45792402",
   "metadata": {},
   "outputs": [],
   "source": [
    "epa_data = {}\n",
    "for name, filename in zip(epa_filenames['name'], epa_filenames['epa_filename']):\n",
    "    path_name = 'data/{}'.format(name)\n",
    "    if not os.path.isdir(path_name): \n",
    "        data_url = '{}{}.zip'.format(epa_weburl, filename)\n",
    "        req = requests.get(data_url)\n",
    "        z = zipfile.ZipFile(io.BytesIO(req.content))\n",
    "        z.extractall(path_name)\n",
    "    data = pd.read_csv(f'data/{name}/{filename}.csv')\n",
    "    epa_data[name] = data"
   ]
  },
  {
   "cell_type": "markdown",
   "id": "f86fef96",
   "metadata": {},
   "source": [
    "Use the below cell to explore each of the datasets, which can be accessed using the keys in the `name` column of `epa_filenames` above. Currently, the cell is viewing the `annual_county_aqi` dataset, but feel free to change it to whichever dataset you want to explore. "
   ]
  },
  {
   "cell_type": "code",
   "execution_count": 5,
   "id": "4a83d60d",
   "metadata": {},
   "outputs": [
    {
     "data": {
      "text/html": [
       "<div>\n",
       "<style scoped>\n",
       "    .dataframe tbody tr th:only-of-type {\n",
       "        vertical-align: middle;\n",
       "    }\n",
       "\n",
       "    .dataframe tbody tr th {\n",
       "        vertical-align: top;\n",
       "    }\n",
       "\n",
       "    .dataframe thead th {\n",
       "        text-align: right;\n",
       "    }\n",
       "</style>\n",
       "<table border=\"1\" class=\"dataframe\">\n",
       "  <thead>\n",
       "    <tr style=\"text-align: right;\">\n",
       "      <th></th>\n",
       "      <th>State</th>\n",
       "      <th>County</th>\n",
       "      <th>Year</th>\n",
       "      <th>Days with AQI</th>\n",
       "      <th>Good Days</th>\n",
       "      <th>Moderate Days</th>\n",
       "      <th>Unhealthy for Sensitive Groups Days</th>\n",
       "      <th>Unhealthy Days</th>\n",
       "      <th>Very Unhealthy Days</th>\n",
       "      <th>Hazardous Days</th>\n",
       "      <th>Max AQI</th>\n",
       "      <th>90th Percentile AQI</th>\n",
       "      <th>Median AQI</th>\n",
       "      <th>Days CO</th>\n",
       "      <th>Days NO2</th>\n",
       "      <th>Days Ozone</th>\n",
       "      <th>Days SO2</th>\n",
       "      <th>Days PM2.5</th>\n",
       "      <th>Days PM10</th>\n",
       "    </tr>\n",
       "  </thead>\n",
       "  <tbody>\n",
       "    <tr>\n",
       "      <th>0</th>\n",
       "      <td>Alabama</td>\n",
       "      <td>Baldwin</td>\n",
       "      <td>2020</td>\n",
       "      <td>269</td>\n",
       "      <td>250</td>\n",
       "      <td>19</td>\n",
       "      <td>0</td>\n",
       "      <td>0</td>\n",
       "      <td>0</td>\n",
       "      <td>0</td>\n",
       "      <td>74</td>\n",
       "      <td>49</td>\n",
       "      <td>36</td>\n",
       "      <td>0</td>\n",
       "      <td>0</td>\n",
       "      <td>198</td>\n",
       "      <td>0</td>\n",
       "      <td>71</td>\n",
       "      <td>0</td>\n",
       "    </tr>\n",
       "    <tr>\n",
       "      <th>1</th>\n",
       "      <td>Alabama</td>\n",
       "      <td>Clay</td>\n",
       "      <td>2020</td>\n",
       "      <td>108</td>\n",
       "      <td>99</td>\n",
       "      <td>9</td>\n",
       "      <td>0</td>\n",
       "      <td>0</td>\n",
       "      <td>0</td>\n",
       "      <td>0</td>\n",
       "      <td>86</td>\n",
       "      <td>49</td>\n",
       "      <td>26</td>\n",
       "      <td>0</td>\n",
       "      <td>0</td>\n",
       "      <td>0</td>\n",
       "      <td>0</td>\n",
       "      <td>108</td>\n",
       "      <td>0</td>\n",
       "    </tr>\n",
       "    <tr>\n",
       "      <th>2</th>\n",
       "      <td>Alabama</td>\n",
       "      <td>DeKalb</td>\n",
       "      <td>2020</td>\n",
       "      <td>364</td>\n",
       "      <td>350</td>\n",
       "      <td>14</td>\n",
       "      <td>0</td>\n",
       "      <td>0</td>\n",
       "      <td>0</td>\n",
       "      <td>0</td>\n",
       "      <td>90</td>\n",
       "      <td>45</td>\n",
       "      <td>36</td>\n",
       "      <td>0</td>\n",
       "      <td>0</td>\n",
       "      <td>331</td>\n",
       "      <td>0</td>\n",
       "      <td>33</td>\n",
       "      <td>0</td>\n",
       "    </tr>\n",
       "    <tr>\n",
       "      <th>3</th>\n",
       "      <td>Alabama</td>\n",
       "      <td>Elmore</td>\n",
       "      <td>2020</td>\n",
       "      <td>197</td>\n",
       "      <td>197</td>\n",
       "      <td>0</td>\n",
       "      <td>0</td>\n",
       "      <td>0</td>\n",
       "      <td>0</td>\n",
       "      <td>0</td>\n",
       "      <td>47</td>\n",
       "      <td>41</td>\n",
       "      <td>31</td>\n",
       "      <td>0</td>\n",
       "      <td>0</td>\n",
       "      <td>197</td>\n",
       "      <td>0</td>\n",
       "      <td>0</td>\n",
       "      <td>0</td>\n",
       "    </tr>\n",
       "    <tr>\n",
       "      <th>4</th>\n",
       "      <td>Alabama</td>\n",
       "      <td>Etowah</td>\n",
       "      <td>2020</td>\n",
       "      <td>278</td>\n",
       "      <td>260</td>\n",
       "      <td>18</td>\n",
       "      <td>0</td>\n",
       "      <td>0</td>\n",
       "      <td>0</td>\n",
       "      <td>0</td>\n",
       "      <td>92</td>\n",
       "      <td>46</td>\n",
       "      <td>34</td>\n",
       "      <td>0</td>\n",
       "      <td>0</td>\n",
       "      <td>204</td>\n",
       "      <td>0</td>\n",
       "      <td>74</td>\n",
       "      <td>0</td>\n",
       "    </tr>\n",
       "  </tbody>\n",
       "</table>\n",
       "</div>"
      ],
      "text/plain": [
       "     State   County  Year  Days with AQI  Good Days  Moderate Days  \\\n",
       "0  Alabama  Baldwin  2020            269        250             19   \n",
       "1  Alabama     Clay  2020            108         99              9   \n",
       "2  Alabama   DeKalb  2020            364        350             14   \n",
       "3  Alabama   Elmore  2020            197        197              0   \n",
       "4  Alabama   Etowah  2020            278        260             18   \n",
       "\n",
       "   Unhealthy for Sensitive Groups Days  Unhealthy Days  Very Unhealthy Days  \\\n",
       "0                                    0               0                    0   \n",
       "1                                    0               0                    0   \n",
       "2                                    0               0                    0   \n",
       "3                                    0               0                    0   \n",
       "4                                    0               0                    0   \n",
       "\n",
       "   Hazardous Days  Max AQI  90th Percentile AQI  Median AQI  Days CO  \\\n",
       "0               0       74                   49          36        0   \n",
       "1               0       86                   49          26        0   \n",
       "2               0       90                   45          36        0   \n",
       "3               0       47                   41          31        0   \n",
       "4               0       92                   46          34        0   \n",
       "\n",
       "   Days NO2  Days Ozone  Days SO2  Days PM2.5  Days PM10  \n",
       "0         0         198         0          71          0  \n",
       "1         0           0         0         108          0  \n",
       "2         0         331         0          33          0  \n",
       "3         0         197         0           0          0  \n",
       "4         0         204         0          74          0  "
      ]
     },
     "execution_count": 5,
     "metadata": {},
     "output_type": "execute_result"
    }
   ],
   "source": [
    "epa_data.get('annual_county_aqi').head()"
   ]
  },
  {
   "cell_type": "markdown",
   "id": "bb2e3c82",
   "metadata": {
    "deletable": false,
    "editable": false
   },
   "source": [
    "<!-- BEGIN QUESTION -->\n",
    "\n",
    "<br/>\n",
    "\n",
    "### Question 0: Understanding the Data\n",
    "\n",
    "Notice that for the table `annual_county_aqi`, the 90th percentile AQI is reported as a column. Why would the 90th percentile AQI be useful as opposed to the maximum? What does it mean when the difference between the 90th percentile AQI and Max AQI is very large compared to the difference between the 90th percentile AQI and the median AQI?\n",
    "\n",
    "<!--\n",
    "BEGIN QUESTION\n",
    "name: q0\n",
    "manual: True\n",
    "points: 2\n",
    "-->"
   ]
  },
  {
   "cell_type": "markdown",
   "id": "09a64f72",
   "metadata": {},
   "source": [
    "Maximum may give us the one value that is the highest which may be an outlier and not very useful. However, the 90th percentile AQI would be useful because it indicates the value where 90% of the sample lies below. This is useful as it gives us a large value where 90% of the sample lies below it and can rule out outliers. When the difference between the 90th percentile AQI and the Max AQI is very large compared to the difference between the 90th percentile AQI and median AQI, this means that the Max AQI is an outlier."
   ]
  },
  {
   "cell_type": "markdown",
   "id": "f81fa62f",
   "metadata": {
    "deletable": false,
    "editable": false
   },
   "source": [
    "<!-- END QUESTION -->\n",
    "\n",
    "<br/>\n",
    "\n",
    "### Question 1a: Creating Month and Day Columns\n",
    "\n",
    "In the `daily_county_aqi` table in `epa_data`, add two new columns called `Day` and `Month` that denote the day and month, respectively, of the AQI reading. The day and month should both be reported as an **integer** as opposed to a string (`Jan`, `Feb`, etc.)\n",
    "\n",
    "hint: `pd.to_datetime` may be useful.\n",
    "\n",
    "<!--\n",
    "BEGIN QUESTION\n",
    "name: q1a\n",
    "points: 1\n",
    "-->"
   ]
  },
  {
   "cell_type": "code",
   "execution_count": 6,
   "id": "e3287b23",
   "metadata": {},
   "outputs": [
    {
     "data": {
      "text/html": [
       "<div>\n",
       "<style scoped>\n",
       "    .dataframe tbody tr th:only-of-type {\n",
       "        vertical-align: middle;\n",
       "    }\n",
       "\n",
       "    .dataframe tbody tr th {\n",
       "        vertical-align: top;\n",
       "    }\n",
       "\n",
       "    .dataframe thead th {\n",
       "        text-align: right;\n",
       "    }\n",
       "</style>\n",
       "<table border=\"1\" class=\"dataframe\">\n",
       "  <thead>\n",
       "    <tr style=\"text-align: right;\">\n",
       "      <th></th>\n",
       "      <th>State Name</th>\n",
       "      <th>county Name</th>\n",
       "      <th>State Code</th>\n",
       "      <th>County Code</th>\n",
       "      <th>Date</th>\n",
       "      <th>AQI</th>\n",
       "      <th>Category</th>\n",
       "      <th>Defining Parameter</th>\n",
       "      <th>Defining Site</th>\n",
       "      <th>Number of Sites Reporting</th>\n",
       "      <th>Month</th>\n",
       "      <th>Day</th>\n",
       "    </tr>\n",
       "  </thead>\n",
       "  <tbody>\n",
       "    <tr>\n",
       "      <th>0</th>\n",
       "      <td>Alabama</td>\n",
       "      <td>Baldwin</td>\n",
       "      <td>1</td>\n",
       "      <td>3</td>\n",
       "      <td>2020-01-01</td>\n",
       "      <td>48</td>\n",
       "      <td>Good</td>\n",
       "      <td>PM2.5</td>\n",
       "      <td>01-003-0010</td>\n",
       "      <td>1</td>\n",
       "      <td>1</td>\n",
       "      <td>1</td>\n",
       "    </tr>\n",
       "    <tr>\n",
       "      <th>1</th>\n",
       "      <td>Alabama</td>\n",
       "      <td>Baldwin</td>\n",
       "      <td>1</td>\n",
       "      <td>3</td>\n",
       "      <td>2020-01-04</td>\n",
       "      <td>13</td>\n",
       "      <td>Good</td>\n",
       "      <td>PM2.5</td>\n",
       "      <td>01-003-0010</td>\n",
       "      <td>1</td>\n",
       "      <td>1</td>\n",
       "      <td>4</td>\n",
       "    </tr>\n",
       "    <tr>\n",
       "      <th>2</th>\n",
       "      <td>Alabama</td>\n",
       "      <td>Baldwin</td>\n",
       "      <td>1</td>\n",
       "      <td>3</td>\n",
       "      <td>2020-01-07</td>\n",
       "      <td>14</td>\n",
       "      <td>Good</td>\n",
       "      <td>PM2.5</td>\n",
       "      <td>01-003-0010</td>\n",
       "      <td>1</td>\n",
       "      <td>1</td>\n",
       "      <td>7</td>\n",
       "    </tr>\n",
       "    <tr>\n",
       "      <th>3</th>\n",
       "      <td>Alabama</td>\n",
       "      <td>Baldwin</td>\n",
       "      <td>1</td>\n",
       "      <td>3</td>\n",
       "      <td>2020-01-10</td>\n",
       "      <td>39</td>\n",
       "      <td>Good</td>\n",
       "      <td>PM2.5</td>\n",
       "      <td>01-003-0010</td>\n",
       "      <td>1</td>\n",
       "      <td>1</td>\n",
       "      <td>10</td>\n",
       "    </tr>\n",
       "    <tr>\n",
       "      <th>4</th>\n",
       "      <td>Alabama</td>\n",
       "      <td>Baldwin</td>\n",
       "      <td>1</td>\n",
       "      <td>3</td>\n",
       "      <td>2020-01-13</td>\n",
       "      <td>29</td>\n",
       "      <td>Good</td>\n",
       "      <td>PM2.5</td>\n",
       "      <td>01-003-0010</td>\n",
       "      <td>1</td>\n",
       "      <td>1</td>\n",
       "      <td>13</td>\n",
       "    </tr>\n",
       "  </tbody>\n",
       "</table>\n",
       "</div>"
      ],
      "text/plain": [
       "  State Name county Name  State Code  County Code        Date  AQI Category  \\\n",
       "0    Alabama     Baldwin           1            3  2020-01-01   48     Good   \n",
       "1    Alabama     Baldwin           1            3  2020-01-04   13     Good   \n",
       "2    Alabama     Baldwin           1            3  2020-01-07   14     Good   \n",
       "3    Alabama     Baldwin           1            3  2020-01-10   39     Good   \n",
       "4    Alabama     Baldwin           1            3  2020-01-13   29     Good   \n",
       "\n",
       "  Defining Parameter Defining Site  Number of Sites Reporting  Month  Day  \n",
       "0              PM2.5   01-003-0010                          1      1    1  \n",
       "1              PM2.5   01-003-0010                          1      1    4  \n",
       "2              PM2.5   01-003-0010                          1      1    7  \n",
       "3              PM2.5   01-003-0010                          1      1   10  \n",
       "4              PM2.5   01-003-0010                          1      1   13  "
      ]
     },
     "execution_count": 6,
     "metadata": {},
     "output_type": "execute_result"
    }
   ],
   "source": [
    "daily_county = epa_data.get('daily_county_aqi')\n",
    "daily_county['Month'] = pd.to_datetime(daily_county['Date']).dt.month.astype(int)\n",
    "daily_county['Day'] = pd.to_datetime(daily_county['Date']).dt.day.astype(int)\n",
    "\n",
    "\n",
    "daily_county.head()"
   ]
  },
  {
   "cell_type": "code",
   "execution_count": 7,
   "id": "a01fb006",
   "metadata": {
    "deletable": false,
    "editable": false
   },
   "outputs": [
    {
     "data": {
      "text/html": [
       "<p><strong><pre style='display: inline;'>q1a</pre></strong> passed!</p>"
      ],
      "text/plain": [
       "q1a results: All test cases passed!"
      ]
     },
     "execution_count": 7,
     "metadata": {},
     "output_type": "execute_result"
    }
   ],
   "source": [
    "grader.check(\"q1a\")"
   ]
  },
  {
   "cell_type": "markdown",
   "id": "d7aac1d3",
   "metadata": {
    "deletable": false,
    "editable": false
   },
   "source": [
    "<br/>\n",
    "\n",
    "### Question 1b: California Data\n",
    "\n",
    "Currently, `epa_data` contains data for **all** counties in the United States. For the guided part of this project, we are specifically going to be focusing on AQI data for counties in California only. Your task is to assign `epa_data_CA` a dictionary mapping table names to dataframes. This map should have the same contents as `epa_data` but only tables that contain **daily data** in the state of `California`.\n",
    "\n",
    "<!--\n",
    "BEGIN QUESTION\n",
    "name: q1b\n",
    "points: 3\n",
    "-->"
   ]
  },
  {
   "cell_type": "code",
   "execution_count": 8,
   "id": "0b203093",
   "metadata": {},
   "outputs": [
    {
     "data": {
      "text/html": [
       "<div>\n",
       "<style scoped>\n",
       "    .dataframe tbody tr th:only-of-type {\n",
       "        vertical-align: middle;\n",
       "    }\n",
       "\n",
       "    .dataframe tbody tr th {\n",
       "        vertical-align: top;\n",
       "    }\n",
       "\n",
       "    .dataframe thead th {\n",
       "        text-align: right;\n",
       "    }\n",
       "</style>\n",
       "<table border=\"1\" class=\"dataframe\">\n",
       "  <thead>\n",
       "    <tr style=\"text-align: right;\">\n",
       "      <th></th>\n",
       "      <th>State Name</th>\n",
       "      <th>county Name</th>\n",
       "      <th>State Code</th>\n",
       "      <th>County Code</th>\n",
       "      <th>Date</th>\n",
       "      <th>AQI</th>\n",
       "      <th>Category</th>\n",
       "      <th>Defining Parameter</th>\n",
       "      <th>Defining Site</th>\n",
       "      <th>Number of Sites Reporting</th>\n",
       "      <th>Month</th>\n",
       "      <th>Day</th>\n",
       "    </tr>\n",
       "  </thead>\n",
       "  <tbody>\n",
       "    <tr>\n",
       "      <th>14003</th>\n",
       "      <td>California</td>\n",
       "      <td>Alameda</td>\n",
       "      <td>6</td>\n",
       "      <td>1</td>\n",
       "      <td>2020-01-01</td>\n",
       "      <td>53</td>\n",
       "      <td>Moderate</td>\n",
       "      <td>PM2.5</td>\n",
       "      <td>06-001-0009</td>\n",
       "      <td>7</td>\n",
       "      <td>1</td>\n",
       "      <td>1</td>\n",
       "    </tr>\n",
       "    <tr>\n",
       "      <th>14004</th>\n",
       "      <td>California</td>\n",
       "      <td>Alameda</td>\n",
       "      <td>6</td>\n",
       "      <td>1</td>\n",
       "      <td>2020-01-02</td>\n",
       "      <td>43</td>\n",
       "      <td>Good</td>\n",
       "      <td>PM2.5</td>\n",
       "      <td>06-001-0013</td>\n",
       "      <td>7</td>\n",
       "      <td>1</td>\n",
       "      <td>2</td>\n",
       "    </tr>\n",
       "    <tr>\n",
       "      <th>14005</th>\n",
       "      <td>California</td>\n",
       "      <td>Alameda</td>\n",
       "      <td>6</td>\n",
       "      <td>1</td>\n",
       "      <td>2020-01-03</td>\n",
       "      <td>74</td>\n",
       "      <td>Moderate</td>\n",
       "      <td>PM2.5</td>\n",
       "      <td>06-001-0013</td>\n",
       "      <td>7</td>\n",
       "      <td>1</td>\n",
       "      <td>3</td>\n",
       "    </tr>\n",
       "    <tr>\n",
       "      <th>14006</th>\n",
       "      <td>California</td>\n",
       "      <td>Alameda</td>\n",
       "      <td>6</td>\n",
       "      <td>1</td>\n",
       "      <td>2020-01-04</td>\n",
       "      <td>45</td>\n",
       "      <td>Good</td>\n",
       "      <td>PM2.5</td>\n",
       "      <td>06-001-0007</td>\n",
       "      <td>7</td>\n",
       "      <td>1</td>\n",
       "      <td>4</td>\n",
       "    </tr>\n",
       "    <tr>\n",
       "      <th>14007</th>\n",
       "      <td>California</td>\n",
       "      <td>Alameda</td>\n",
       "      <td>6</td>\n",
       "      <td>1</td>\n",
       "      <td>2020-01-05</td>\n",
       "      <td>33</td>\n",
       "      <td>Good</td>\n",
       "      <td>PM2.5</td>\n",
       "      <td>06-001-0007</td>\n",
       "      <td>7</td>\n",
       "      <td>1</td>\n",
       "      <td>5</td>\n",
       "    </tr>\n",
       "  </tbody>\n",
       "</table>\n",
       "</div>"
      ],
      "text/plain": [
       "       State Name county Name  State Code  County Code        Date  AQI  \\\n",
       "14003  California     Alameda           6            1  2020-01-01   53   \n",
       "14004  California     Alameda           6            1  2020-01-02   43   \n",
       "14005  California     Alameda           6            1  2020-01-03   74   \n",
       "14006  California     Alameda           6            1  2020-01-04   45   \n",
       "14007  California     Alameda           6            1  2020-01-05   33   \n",
       "\n",
       "       Category Defining Parameter Defining Site  Number of Sites Reporting  \\\n",
       "14003  Moderate              PM2.5   06-001-0009                          7   \n",
       "14004      Good              PM2.5   06-001-0013                          7   \n",
       "14005  Moderate              PM2.5   06-001-0013                          7   \n",
       "14006      Good              PM2.5   06-001-0007                          7   \n",
       "14007      Good              PM2.5   06-001-0007                          7   \n",
       "\n",
       "       Month  Day  \n",
       "14003      1    1  \n",
       "14004      1    2  \n",
       "14005      1    3  \n",
       "14006      1    4  \n",
       "14007      1    5  "
      ]
     },
     "execution_count": 8,
     "metadata": {},
     "output_type": "execute_result"
    }
   ],
   "source": [
    "epa_data_CA = {}\n",
    "for key in epa_data:\n",
    "    if key != 'annual_county_aqi' and key != 'aqs_sites':\n",
    "        epa_data_CA[key] = epa_data[key].query('`State Name` == \"California\"')\n",
    "    \n",
    "\n",
    "epa_data_CA.get('daily_county_aqi').head()"
   ]
  },
  {
   "cell_type": "code",
   "execution_count": 9,
   "id": "3ff29afa",
   "metadata": {
    "deletable": false,
    "editable": false
   },
   "outputs": [
    {
     "data": {
      "text/html": [
       "<p><strong><pre style='display: inline;'>q1b</pre></strong> passed!</p>"
      ],
      "text/plain": [
       "q1b results: All test cases passed!"
      ]
     },
     "execution_count": 9,
     "metadata": {},
     "output_type": "execute_result"
    }
   ],
   "source": [
    "grader.check(\"q1b\")"
   ]
  },
  {
   "cell_type": "markdown",
   "id": "cbd789c4",
   "metadata": {
    "deletable": false,
    "editable": false
   },
   "source": [
    "<br/>\n",
    "\n",
    "### Question 1c: Merging Site Information\n",
    "\n",
    "Now take a look at this [link](https://www.epa.gov/outdoor-air-quality-data/about-air-data-reports) and look under \"Site ID\". For later analysis, we want to first get the latitude and longitudes of each of the measurements in the `daily_county_aqi` table by merging two or more tables in `epa_data_CA` (one of the tables is `daily_county_aqi`).\n",
    "\n",
    "Our final merged table should be assigned to `epa_data_CA_merged` and the result should contain the following columns: `State Name`, `county Name`, `Month`, `Day`, `AQI`, `Category`, `Defining Site`, `Latitude`, and `Longitude`\n",
    "\n",
    "<!--\n",
    "BEGIN QUESTION\n",
    "name: q1c\n",
    "points: 4\n",
    "-->"
   ]
  },
  {
   "cell_type": "code",
   "execution_count": 10,
   "id": "be28f7dc",
   "metadata": {},
   "outputs": [
    {
     "data": {
      "text/html": [
       "<div>\n",
       "<style scoped>\n",
       "    .dataframe tbody tr th:only-of-type {\n",
       "        vertical-align: middle;\n",
       "    }\n",
       "\n",
       "    .dataframe tbody tr th {\n",
       "        vertical-align: top;\n",
       "    }\n",
       "\n",
       "    .dataframe thead th {\n",
       "        text-align: right;\n",
       "    }\n",
       "</style>\n",
       "<table border=\"1\" class=\"dataframe\">\n",
       "  <thead>\n",
       "    <tr style=\"text-align: right;\">\n",
       "      <th></th>\n",
       "      <th>State Name</th>\n",
       "      <th>county Name</th>\n",
       "      <th>Month</th>\n",
       "      <th>Day</th>\n",
       "      <th>AQI</th>\n",
       "      <th>Category</th>\n",
       "      <th>Defining Site</th>\n",
       "      <th>Latitude</th>\n",
       "      <th>Longitude</th>\n",
       "    </tr>\n",
       "  </thead>\n",
       "  <tbody>\n",
       "    <tr>\n",
       "      <th>0</th>\n",
       "      <td>California</td>\n",
       "      <td>Alameda</td>\n",
       "      <td>1</td>\n",
       "      <td>1</td>\n",
       "      <td>53</td>\n",
       "      <td>Moderate</td>\n",
       "      <td>06-001-0009</td>\n",
       "      <td>37.743065</td>\n",
       "      <td>-122.169935</td>\n",
       "    </tr>\n",
       "    <tr>\n",
       "      <th>1</th>\n",
       "      <td>California</td>\n",
       "      <td>Alameda</td>\n",
       "      <td>1</td>\n",
       "      <td>25</td>\n",
       "      <td>40</td>\n",
       "      <td>Good</td>\n",
       "      <td>06-001-0009</td>\n",
       "      <td>37.743065</td>\n",
       "      <td>-122.169935</td>\n",
       "    </tr>\n",
       "    <tr>\n",
       "      <th>2</th>\n",
       "      <td>California</td>\n",
       "      <td>Alameda</td>\n",
       "      <td>7</td>\n",
       "      <td>3</td>\n",
       "      <td>48</td>\n",
       "      <td>Good</td>\n",
       "      <td>06-001-0009</td>\n",
       "      <td>37.743065</td>\n",
       "      <td>-122.169935</td>\n",
       "    </tr>\n",
       "    <tr>\n",
       "      <th>3</th>\n",
       "      <td>California</td>\n",
       "      <td>Alameda</td>\n",
       "      <td>7</td>\n",
       "      <td>4</td>\n",
       "      <td>115</td>\n",
       "      <td>Unhealthy for Sensitive Groups</td>\n",
       "      <td>06-001-0009</td>\n",
       "      <td>37.743065</td>\n",
       "      <td>-122.169935</td>\n",
       "    </tr>\n",
       "    <tr>\n",
       "      <th>4</th>\n",
       "      <td>California</td>\n",
       "      <td>Alameda</td>\n",
       "      <td>7</td>\n",
       "      <td>5</td>\n",
       "      <td>78</td>\n",
       "      <td>Moderate</td>\n",
       "      <td>06-001-0009</td>\n",
       "      <td>37.743065</td>\n",
       "      <td>-122.169935</td>\n",
       "    </tr>\n",
       "    <tr>\n",
       "      <th>...</th>\n",
       "      <td>...</td>\n",
       "      <td>...</td>\n",
       "      <td>...</td>\n",
       "      <td>...</td>\n",
       "      <td>...</td>\n",
       "      <td>...</td>\n",
       "      <td>...</td>\n",
       "      <td>...</td>\n",
       "      <td>...</td>\n",
       "    </tr>\n",
       "    <tr>\n",
       "      <th>19220</th>\n",
       "      <td>California</td>\n",
       "      <td>Yolo</td>\n",
       "      <td>12</td>\n",
       "      <td>11</td>\n",
       "      <td>25</td>\n",
       "      <td>Good</td>\n",
       "      <td>06-113-1003</td>\n",
       "      <td>38.661210</td>\n",
       "      <td>-121.732690</td>\n",
       "    </tr>\n",
       "    <tr>\n",
       "      <th>19221</th>\n",
       "      <td>California</td>\n",
       "      <td>Yolo</td>\n",
       "      <td>12</td>\n",
       "      <td>16</td>\n",
       "      <td>19</td>\n",
       "      <td>Good</td>\n",
       "      <td>06-113-1003</td>\n",
       "      <td>38.661210</td>\n",
       "      <td>-121.732690</td>\n",
       "    </tr>\n",
       "    <tr>\n",
       "      <th>19222</th>\n",
       "      <td>California</td>\n",
       "      <td>Yolo</td>\n",
       "      <td>12</td>\n",
       "      <td>20</td>\n",
       "      <td>73</td>\n",
       "      <td>Moderate</td>\n",
       "      <td>06-113-1003</td>\n",
       "      <td>38.661210</td>\n",
       "      <td>-121.732690</td>\n",
       "    </tr>\n",
       "    <tr>\n",
       "      <th>19223</th>\n",
       "      <td>California</td>\n",
       "      <td>Yolo</td>\n",
       "      <td>12</td>\n",
       "      <td>23</td>\n",
       "      <td>49</td>\n",
       "      <td>Good</td>\n",
       "      <td>06-113-1003</td>\n",
       "      <td>38.661210</td>\n",
       "      <td>-121.732690</td>\n",
       "    </tr>\n",
       "    <tr>\n",
       "      <th>19224</th>\n",
       "      <td>California</td>\n",
       "      <td>Yolo</td>\n",
       "      <td>12</td>\n",
       "      <td>26</td>\n",
       "      <td>31</td>\n",
       "      <td>Good</td>\n",
       "      <td>06-113-1003</td>\n",
       "      <td>38.661210</td>\n",
       "      <td>-121.732690</td>\n",
       "    </tr>\n",
       "  </tbody>\n",
       "</table>\n",
       "<p>19225 rows × 9 columns</p>\n",
       "</div>"
      ],
      "text/plain": [
       "       State Name county Name  Month  Day  AQI  \\\n",
       "0      California     Alameda      1    1   53   \n",
       "1      California     Alameda      1   25   40   \n",
       "2      California     Alameda      7    3   48   \n",
       "3      California     Alameda      7    4  115   \n",
       "4      California     Alameda      7    5   78   \n",
       "...           ...         ...    ...  ...  ...   \n",
       "19220  California        Yolo     12   11   25   \n",
       "19221  California        Yolo     12   16   19   \n",
       "19222  California        Yolo     12   20   73   \n",
       "19223  California        Yolo     12   23   49   \n",
       "19224  California        Yolo     12   26   31   \n",
       "\n",
       "                             Category Defining Site   Latitude   Longitude  \n",
       "0                            Moderate   06-001-0009  37.743065 -122.169935  \n",
       "1                                Good   06-001-0009  37.743065 -122.169935  \n",
       "2                                Good   06-001-0009  37.743065 -122.169935  \n",
       "3      Unhealthy for Sensitive Groups   06-001-0009  37.743065 -122.169935  \n",
       "4                            Moderate   06-001-0009  37.743065 -122.169935  \n",
       "...                               ...           ...        ...         ...  \n",
       "19220                            Good   06-113-1003  38.661210 -121.732690  \n",
       "19221                            Good   06-113-1003  38.661210 -121.732690  \n",
       "19222                        Moderate   06-113-1003  38.661210 -121.732690  \n",
       "19223                            Good   06-113-1003  38.661210 -121.732690  \n",
       "19224                            Good   06-113-1003  38.661210 -121.732690  \n",
       "\n",
       "[19225 rows x 9 columns]"
      ]
     },
     "execution_count": 10,
     "metadata": {},
     "output_type": "execute_result"
    }
   ],
   "source": [
    "cols = ['State Name', 'county Name', 'Month', 'Day', 'AQI', 'Category', 'Defining Site', 'Latitude', 'Longitude']\n",
    "ca_aqi = epa_data_CA.get('daily_county_aqi')\n",
    "ca_aqi['Site Number'] = ca_aqi['Defining Site'].str.split('-').str.get(2).astype(int)\n",
    "ca_aqi = ca_aqi.drop(columns=['Defining Parameter', 'Number of Sites Reporting'])\n",
    "sites = epa_data.get('aqs_sites').query('`State Name` == \"California\"').iloc[:,:5]\n",
    "sites['State Code'] = sites['State Code'].astype(int)\n",
    "epa_data_CA_merged = ca_aqi.merge(sites, how='inner', on=['State Code', 'County Code', 'Site Number'])\n",
    "epa_data_CA_merged = epa_data_CA_merged[cols].dropna().drop_duplicates()\n",
    "epa_data_CA_merged"
   ]
  },
  {
   "cell_type": "code",
   "execution_count": 11,
   "id": "86b3e2aa",
   "metadata": {
    "deletable": false,
    "editable": false
   },
   "outputs": [
    {
     "data": {
      "text/html": [
       "<p><strong><pre style='display: inline;'>q1c</pre></strong> passed!</p>"
      ],
      "text/plain": [
       "q1c results: All test cases passed!"
      ]
     },
     "execution_count": 11,
     "metadata": {},
     "output_type": "execute_result"
    }
   ],
   "source": [
    "grader.check(\"q1c\")"
   ]
  },
  {
   "cell_type": "markdown",
   "id": "0934d18f",
   "metadata": {
    "deletable": false,
    "editable": false
   },
   "source": [
    "<br/>\n",
    "\n",
    "### Question 2a - Cleaning Traffic Data \n",
    "\n",
    "Throughout this project, you will be using other datasets to assist with analysis and predictions. Traditionally, to join dataframes we need to join on a specific column with shared values. However, when it comes to locations, exact latitudes and longitudes are hard to come by since it is a continuous space. First, lets look at such a dataset that we may want to merge on with `epa_data_CA_merged`. \n",
    "\n",
    "In the below cell, we have loaded in the `traffic_data` dataset, which contains traffic data for various locations in California. Your task is to clean this table so that it includes only the following columns (you may have to rename some): `District`, `Route`, `County`, `Descriptn`, `AADT`, `Latitude`, `Longitude`, where `AADT` is found by taking the sum of the back and ahead `AADT`s (you may run into some issues with cleaning the data in order to add these columns - `.str` functions may help with this). The metric AADT, annual average daily traffic, is calculated as the sum of the traffic north of the route (ahead AADT) and south of the route (back AADT). You also need to make sure to clean and remove any illegal values from the dataframe (hint: check `Latitude` and `Longitude`).\n",
    "\n",
    "*Hint:* `str` functions you will likely use: `.strip()`, `.replace()`.\n",
    "\n",
    "<!--\n",
    "BEGIN QUESTION\n",
    "name: q2a\n",
    "points: 3\n",
    "-->"
   ]
  },
  {
   "cell_type": "code",
   "execution_count": 12,
   "id": "fbd51a57",
   "metadata": {},
   "outputs": [
    {
     "data": {
      "text/html": [
       "<div>\n",
       "<style scoped>\n",
       "    .dataframe tbody tr th:only-of-type {\n",
       "        vertical-align: middle;\n",
       "    }\n",
       "\n",
       "    .dataframe tbody tr th {\n",
       "        vertical-align: top;\n",
       "    }\n",
       "\n",
       "    .dataframe thead th {\n",
       "        text-align: right;\n",
       "    }\n",
       "</style>\n",
       "<table border=\"1\" class=\"dataframe\">\n",
       "  <thead>\n",
       "    <tr style=\"text-align: right;\">\n",
       "      <th></th>\n",
       "      <th>District</th>\n",
       "      <th>Route</th>\n",
       "      <th>County</th>\n",
       "      <th>Descriptn</th>\n",
       "      <th>AADT</th>\n",
       "      <th>Latitude</th>\n",
       "      <th>Longitude</th>\n",
       "    </tr>\n",
       "  </thead>\n",
       "  <tbody>\n",
       "    <tr>\n",
       "      <th>0</th>\n",
       "      <td>1</td>\n",
       "      <td>1</td>\n",
       "      <td>MEN</td>\n",
       "      <td>SONOMA/MENDOCINO COUNTY LINE</td>\n",
       "      <td>4000</td>\n",
       "      <td>38.759843</td>\n",
       "      <td>-123.518503</td>\n",
       "    </tr>\n",
       "    <tr>\n",
       "      <th>1</th>\n",
       "      <td>1</td>\n",
       "      <td>1</td>\n",
       "      <td>MEN</td>\n",
       "      <td>NORTH LIMITS GUALALA</td>\n",
       "      <td>7100</td>\n",
       "      <td>38.770046</td>\n",
       "      <td>-123.531890</td>\n",
       "    </tr>\n",
       "    <tr>\n",
       "      <th>2</th>\n",
       "      <td>1</td>\n",
       "      <td>1</td>\n",
       "      <td>MEN</td>\n",
       "      <td>FISH ROCK ROAD</td>\n",
       "      <td>6200</td>\n",
       "      <td>38.803549</td>\n",
       "      <td>-123.585411</td>\n",
       "    </tr>\n",
       "    <tr>\n",
       "      <th>3</th>\n",
       "      <td>1</td>\n",
       "      <td>1</td>\n",
       "      <td>MEN</td>\n",
       "      <td>POINT ARENA, SOUTH CITY LIMITS</td>\n",
       "      <td>4600</td>\n",
       "      <td>38.903973</td>\n",
       "      <td>-123.691513</td>\n",
       "    </tr>\n",
       "    <tr>\n",
       "      <th>4</th>\n",
       "      <td>1</td>\n",
       "      <td>1</td>\n",
       "      <td>MEN</td>\n",
       "      <td>POINT ARENA, RIVERSIDE DRIVE</td>\n",
       "      <td>5000</td>\n",
       "      <td>38.910913</td>\n",
       "      <td>-123.692410</td>\n",
       "    </tr>\n",
       "    <tr>\n",
       "      <th>...</th>\n",
       "      <td>...</td>\n",
       "      <td>...</td>\n",
       "      <td>...</td>\n",
       "      <td>...</td>\n",
       "      <td>...</td>\n",
       "      <td>...</td>\n",
       "      <td>...</td>\n",
       "    </tr>\n",
       "    <tr>\n",
       "      <th>7115</th>\n",
       "      <td>12</td>\n",
       "      <td>605</td>\n",
       "      <td>ORA</td>\n",
       "      <td>SEAL BEACH, JCT RTE 22</td>\n",
       "      <td>46100</td>\n",
       "      <td>33.778633</td>\n",
       "      <td>-118.091474</td>\n",
       "    </tr>\n",
       "    <tr>\n",
       "      <th>7116</th>\n",
       "      <td>12</td>\n",
       "      <td>605</td>\n",
       "      <td>ORA</td>\n",
       "      <td>JCT. RTE. 405</td>\n",
       "      <td>212200</td>\n",
       "      <td>33.784414</td>\n",
       "      <td>-118.091768</td>\n",
       "    </tr>\n",
       "    <tr>\n",
       "      <th>7117</th>\n",
       "      <td>12</td>\n",
       "      <td>605</td>\n",
       "      <td>ORA</td>\n",
       "      <td>LOS ALAMITOS, KATELLA AVENUE</td>\n",
       "      <td>326800</td>\n",
       "      <td>33.802799</td>\n",
       "      <td>-118.082030</td>\n",
       "    </tr>\n",
       "    <tr>\n",
       "      <th>7118</th>\n",
       "      <td>12</td>\n",
       "      <td>605</td>\n",
       "      <td>ORA</td>\n",
       "      <td>ORANGE/LOS ANGELES COUNTY LINE</td>\n",
       "      <td>170000</td>\n",
       "      <td>33.806140</td>\n",
       "      <td>-118.081547</td>\n",
       "    </tr>\n",
       "    <tr>\n",
       "      <th>7119</th>\n",
       "      <td>3</td>\n",
       "      <td>99</td>\n",
       "      <td>SAC</td>\n",
       "      <td>BREAK IN ROUTE</td>\n",
       "      <td>0</td>\n",
       "      <td>38.558838</td>\n",
       "      <td>-121.473649</td>\n",
       "    </tr>\n",
       "  </tbody>\n",
       "</table>\n",
       "<p>6711 rows × 7 columns</p>\n",
       "</div>"
      ],
      "text/plain": [
       "      District  Route County                       Descriptn    AADT  \\\n",
       "0            1      1    MEN    SONOMA/MENDOCINO COUNTY LINE    4000   \n",
       "1            1      1    MEN            NORTH LIMITS GUALALA    7100   \n",
       "2            1      1    MEN                  FISH ROCK ROAD    6200   \n",
       "3            1      1    MEN  POINT ARENA, SOUTH CITY LIMITS    4600   \n",
       "4            1      1    MEN    POINT ARENA, RIVERSIDE DRIVE    5000   \n",
       "...        ...    ...    ...                             ...     ...   \n",
       "7115        12    605    ORA          SEAL BEACH, JCT RTE 22   46100   \n",
       "7116        12    605    ORA                   JCT. RTE. 405  212200   \n",
       "7117        12    605    ORA    LOS ALAMITOS, KATELLA AVENUE  326800   \n",
       "7118        12    605    ORA  ORANGE/LOS ANGELES COUNTY LINE  170000   \n",
       "7119         3     99    SAC                  BREAK IN ROUTE       0   \n",
       "\n",
       "       Latitude   Longitude  \n",
       "0     38.759843 -123.518503  \n",
       "1     38.770046 -123.531890  \n",
       "2     38.803549 -123.585411  \n",
       "3     38.903973 -123.691513  \n",
       "4     38.910913 -123.692410  \n",
       "...         ...         ...  \n",
       "7115  33.778633 -118.091474  \n",
       "7116  33.784414 -118.091768  \n",
       "7117  33.802799 -118.082030  \n",
       "7118  33.806140 -118.081547  \n",
       "7119  38.558838 -121.473649  \n",
       "\n",
       "[6711 rows x 7 columns]"
      ]
     },
     "execution_count": 12,
     "metadata": {},
     "output_type": "execute_result"
    }
   ],
   "source": [
    "traffic_data = pd.read_csv(\"data/Traffic_Volumes_AADT.csv\")\n",
    "columns = ['District', 'Route', 'County', 'Descriptn', 'AADT', 'Latitude', 'Longitude']\n",
    "traffic_data['AADT'] = traffic_data['Back_AADT'].replace(\" \", 0).astype(int) + traffic_data['Ahead_AADT'].replace(\" \", 0).astype(int)\n",
    "traffic_data['Lat_S_or_W'] = traffic_data['Lat_S_or_W'].replace('Left Skipped - Input PM on Right Ind. Alignment', np.nan).astype(float)\n",
    "traffic_data['Lon_S_or_W'] = traffic_data['Lon_S_or_W'].replace('Left Skipped - Input PM on Right Ind. Alignment', np.nan).astype(float)\n",
    "traffic_data['Lat_N_or_E'] = traffic_data['Lat_N_or_E'].replace('Right Skipped - Input PM on Left Ind. Alignment', np.nan).astype(float)\n",
    "traffic_data['Lon_N_or_E'] = traffic_data['Lon_N_or_E'].replace('Right Skipped - Input PM on Left Ind. Alignment', np.nan).astype(float)\n",
    "traffic_data_cleaned = traffic_data.dropna().rename(columns={'Lon_S_or_W':'Longitude', 'Lat_S_or_W':'Latitude'})[columns]\n",
    "\n",
    "traffic_data_cleaned"
   ]
  },
  {
   "cell_type": "code",
   "execution_count": 13,
   "id": "302e1457",
   "metadata": {
    "deletable": false,
    "editable": false
   },
   "outputs": [
    {
     "data": {
      "text/html": [
       "<p><strong><pre style='display: inline;'>q2a</pre></strong> passed!</p>"
      ],
      "text/plain": [
       "q2a results: All test cases passed!"
      ]
     },
     "execution_count": 13,
     "metadata": {},
     "output_type": "execute_result"
    }
   ],
   "source": [
    "grader.check(\"q2a\")"
   ]
  },
  {
   "cell_type": "markdown",
   "id": "67e35cda",
   "metadata": {
    "deletable": false,
    "editable": false
   },
   "source": [
    "### Question 2b - Merging on Traffic Data \n",
    "\n",
    "Traditionally, we could employ some sort of join where we join `epa_data_CA_merged` rows with the row in `traffic_data` that it is the \"closest\" to, as measured by euclidean distance. As you can imagine, this can be quite tedious so instead we will use a special type of join called a **spatial join**, which can be done using the package `geopandas`, which is imported as `gpd`. The documentation for `geopandas` is linked [here](https://geopandas.org/docs/reference/api/geopandas.sjoin_nearest.html). Please use this as a resource to do the following tasks: \n",
    "\n",
    " - turn `traffic_data_cleaned` and `epa_data_CA_merged` into a geopandas dataframe using the latitude and longitude.\n",
    " - Use a spatial join (which function is this in the documentation?) to match the correct traffic row information to each entry in `epa_data_CA_merged`. \n",
    "\n",
    "Your final dataframe should be assigned to `gpd_epa_traffic` with the following columns: `State Name`, `county Name`, `Month`, `Day`, `AQI`, `Category`, `Defining Site`, `Site Lat`, `Site Long`, `Traffic Lat`, `Traffic Long`, `Descriptn`, and `AADT`.\n",
    "\n",
    "<!--\n",
    "BEGIN QUESTION\n",
    "name: q2b\n",
    "points: 2\n",
    "-->"
   ]
  },
  {
   "cell_type": "code",
   "execution_count": 14,
   "id": "eef79865",
   "metadata": {},
   "outputs": [
    {
     "data": {
      "text/html": [
       "<div>\n",
       "<style scoped>\n",
       "    .dataframe tbody tr th:only-of-type {\n",
       "        vertical-align: middle;\n",
       "    }\n",
       "\n",
       "    .dataframe tbody tr th {\n",
       "        vertical-align: top;\n",
       "    }\n",
       "\n",
       "    .dataframe thead th {\n",
       "        text-align: right;\n",
       "    }\n",
       "</style>\n",
       "<table border=\"1\" class=\"dataframe\">\n",
       "  <thead>\n",
       "    <tr style=\"text-align: right;\">\n",
       "      <th></th>\n",
       "      <th>State Name</th>\n",
       "      <th>county Name</th>\n",
       "      <th>Month</th>\n",
       "      <th>Day</th>\n",
       "      <th>AQI</th>\n",
       "      <th>Category</th>\n",
       "      <th>Defining Site</th>\n",
       "      <th>Site Lat</th>\n",
       "      <th>Site Long</th>\n",
       "      <th>Traffic Lat</th>\n",
       "      <th>Traffic Long</th>\n",
       "      <th>Descriptn</th>\n",
       "      <th>AADT</th>\n",
       "    </tr>\n",
       "  </thead>\n",
       "  <tbody>\n",
       "    <tr>\n",
       "      <th>0</th>\n",
       "      <td>California</td>\n",
       "      <td>Alameda</td>\n",
       "      <td>1</td>\n",
       "      <td>1</td>\n",
       "      <td>53</td>\n",
       "      <td>Moderate</td>\n",
       "      <td>06-001-0009</td>\n",
       "      <td>37.743065</td>\n",
       "      <td>-122.169935</td>\n",
       "      <td>37.744352</td>\n",
       "      <td>-122.170586</td>\n",
       "      <td>OAKLAND, 98TH AVENUE</td>\n",
       "      <td>48300</td>\n",
       "    </tr>\n",
       "    <tr>\n",
       "      <th>1</th>\n",
       "      <td>California</td>\n",
       "      <td>Alameda</td>\n",
       "      <td>1</td>\n",
       "      <td>25</td>\n",
       "      <td>40</td>\n",
       "      <td>Good</td>\n",
       "      <td>06-001-0009</td>\n",
       "      <td>37.743065</td>\n",
       "      <td>-122.169935</td>\n",
       "      <td>37.744352</td>\n",
       "      <td>-122.170586</td>\n",
       "      <td>OAKLAND, 98TH AVENUE</td>\n",
       "      <td>48300</td>\n",
       "    </tr>\n",
       "    <tr>\n",
       "      <th>2</th>\n",
       "      <td>California</td>\n",
       "      <td>Alameda</td>\n",
       "      <td>7</td>\n",
       "      <td>3</td>\n",
       "      <td>48</td>\n",
       "      <td>Good</td>\n",
       "      <td>06-001-0009</td>\n",
       "      <td>37.743065</td>\n",
       "      <td>-122.169935</td>\n",
       "      <td>37.744352</td>\n",
       "      <td>-122.170586</td>\n",
       "      <td>OAKLAND, 98TH AVENUE</td>\n",
       "      <td>48300</td>\n",
       "    </tr>\n",
       "    <tr>\n",
       "      <th>3</th>\n",
       "      <td>California</td>\n",
       "      <td>Alameda</td>\n",
       "      <td>7</td>\n",
       "      <td>4</td>\n",
       "      <td>115</td>\n",
       "      <td>Unhealthy for Sensitive Groups</td>\n",
       "      <td>06-001-0009</td>\n",
       "      <td>37.743065</td>\n",
       "      <td>-122.169935</td>\n",
       "      <td>37.744352</td>\n",
       "      <td>-122.170586</td>\n",
       "      <td>OAKLAND, 98TH AVENUE</td>\n",
       "      <td>48300</td>\n",
       "    </tr>\n",
       "    <tr>\n",
       "      <th>4</th>\n",
       "      <td>California</td>\n",
       "      <td>Alameda</td>\n",
       "      <td>7</td>\n",
       "      <td>5</td>\n",
       "      <td>78</td>\n",
       "      <td>Moderate</td>\n",
       "      <td>06-001-0009</td>\n",
       "      <td>37.743065</td>\n",
       "      <td>-122.169935</td>\n",
       "      <td>37.744352</td>\n",
       "      <td>-122.170586</td>\n",
       "      <td>OAKLAND, 98TH AVENUE</td>\n",
       "      <td>48300</td>\n",
       "    </tr>\n",
       "  </tbody>\n",
       "</table>\n",
       "</div>"
      ],
      "text/plain": [
       "   State Name county Name  Month  Day  AQI                        Category  \\\n",
       "0  California     Alameda      1    1   53                        Moderate   \n",
       "1  California     Alameda      1   25   40                            Good   \n",
       "2  California     Alameda      7    3   48                            Good   \n",
       "3  California     Alameda      7    4  115  Unhealthy for Sensitive Groups   \n",
       "4  California     Alameda      7    5   78                        Moderate   \n",
       "\n",
       "  Defining Site   Site Lat   Site Long  Traffic Lat  Traffic Long  \\\n",
       "0   06-001-0009  37.743065 -122.169935    37.744352   -122.170586   \n",
       "1   06-001-0009  37.743065 -122.169935    37.744352   -122.170586   \n",
       "2   06-001-0009  37.743065 -122.169935    37.744352   -122.170586   \n",
       "3   06-001-0009  37.743065 -122.169935    37.744352   -122.170586   \n",
       "4   06-001-0009  37.743065 -122.169935    37.744352   -122.170586   \n",
       "\n",
       "              Descriptn   AADT  \n",
       "0  OAKLAND, 98TH AVENUE  48300  \n",
       "1  OAKLAND, 98TH AVENUE  48300  \n",
       "2  OAKLAND, 98TH AVENUE  48300  \n",
       "3  OAKLAND, 98TH AVENUE  48300  \n",
       "4  OAKLAND, 98TH AVENUE  48300  "
      ]
     },
     "execution_count": 14,
     "metadata": {},
     "output_type": "execute_result"
    }
   ],
   "source": [
    "order = ['State Name', 'county Name', 'Month', 'Day', 'AQI', 'Category', 'Defining Site', 'Site Lat', 'Site Long', 'Traffic Lat', 'Traffic Long', 'Descriptn', 'AADT']\n",
    "copy_epa_data_CA_merged = epa_data_CA_merged.copy()\n",
    "gpd_epa = gpd.GeoDataFrame(copy_epa_data_CA_merged, geometry=gpd.points_from_xy(epa_data_CA_merged['Longitude'], epa_data_CA_merged['Latitude']))\n",
    "gpd_traffic = gpd.GeoDataFrame(traffic_data_cleaned, geometry=gpd.points_from_xy(traffic_data_cleaned['Longitude'], traffic_data_cleaned['Latitude']))\n",
    "gpd_epa_traffic = gpd_epa.sjoin_nearest(gpd_traffic, how='inner').rename(columns={'Latitude_left':'Site Lat','Longitude_left':'Site Long','Latitude_right':'Traffic Lat','Longitude_right':'Traffic Long'})[order]\n",
    "gpd_epa_traffic.head()"
   ]
  },
  {
   "cell_type": "code",
   "execution_count": 15,
   "id": "b551886e",
   "metadata": {
    "deletable": false,
    "editable": false
   },
   "outputs": [
    {
     "data": {
      "text/html": [
       "<p><strong><pre style='display: inline;'>q2b</pre></strong> passed!</p>"
      ],
      "text/plain": [
       "q2b results: All test cases passed!"
      ]
     },
     "execution_count": 15,
     "metadata": {},
     "output_type": "execute_result"
    }
   ],
   "source": [
    "grader.check(\"q2b\")"
   ]
  },
  {
   "cell_type": "markdown",
   "id": "cc72f6c9",
   "metadata": {
    "tags": []
   },
   "source": [
    "<br/><br/>\n",
    "\n",
    "---\n",
    "## Section 2: Guided EDA\n"
   ]
  },
  {
   "cell_type": "markdown",
   "id": "07b60cd6",
   "metadata": {
    "deletable": false,
    "editable": false
   },
   "source": [
    "### Question 3a: Initial AQI Analysis\n",
    "\n",
    "Assign a `pd.Series` object to `worst_median_aqis` that contains the states with the top 10 worst median AQIs throughout the year 2020, as measured by the average median AQIs across all counties for a single state. Your result should have index `state`, the column value should be labelled `Average Median AQI`, and it should be arranged in descending order.\n",
    "\n",
    "Now, assign the same thing to `worst_max_aqis`, except instead of aggregating the average median AQIs across all counties, aggregate the average **max AQIs** across all counties. Your result should have the same shape and labels as before, except the column value should be labelled `Average Max AQI`. \n",
    "\n",
    "Note: you may have to remove a few regions in your tables. Make sure every entry in your output is a **US State**.\n",
    "\n",
    "<!--\n",
    "BEGIN QUESTION\n",
    "name: q3a\n",
    "points: 2\n",
    "-->"
   ]
  },
  {
   "cell_type": "code",
   "execution_count": 16,
   "id": "61aac8a2",
   "metadata": {},
   "outputs": [
    {
     "name": "stdout",
     "output_type": "stream",
     "text": [
      "Worst Median AQI : \n",
      "State\n",
      "California       48.018868\n",
      "Arizona          47.307692\n",
      "Utah             41.066667\n",
      "Connecticut      39.125000\n",
      "Delaware         38.000000\n",
      "Mississippi      37.200000\n",
      "New Jersey       36.937500\n",
      "Massachusetts    36.538462\n",
      "Nevada           36.222222\n",
      "Pennsylvania     35.756098\n",
      "Name: Average Median AQI, dtype: float64\n",
      "\n",
      "Worst Max AQI : \n",
      "State\n",
      "Oregon          430.347826\n",
      "Washington      334.419355\n",
      "California      286.981132\n",
      "Arizona         238.230769\n",
      "Idaho           197.857143\n",
      "Wyoming         196.666667\n",
      "Nevada          196.666667\n",
      "Montana         137.421053\n",
      "Rhode Island    133.000000\n",
      "Connecticut     124.750000\n",
      "Name: Average Max AQI, dtype: float64\n"
     ]
    },
    {
     "data": {
      "text/plain": [
       "array([430.35, 334.42, 286.98, 238.23, 197.86, 196.67, 196.67, 137.42,\n",
       "       133.  , 124.75])"
      ]
     },
     "execution_count": 16,
     "metadata": {},
     "output_type": "execute_result"
    }
   ],
   "source": [
    "states = epa_data.get('annual_county_aqi')['State'].unique()\n",
    "us_states = np.delete(states, [7,9,40,48])\n",
    "annual_aqi = epa_data.get('annual_county_aqi')\n",
    "filtered_aqi = annual_aqi[(annual_aqi['Year']==2020) & (annual_aqi['State'].isin(us_states))]\n",
    "worst_median_aqis = filtered_aqi.groupby('State')['Median AQI'].agg(np.mean).sort_values(ascending=False).rename('Average Median AQI')[:10]\n",
    "worst_max_aqis = filtered_aqi.groupby('State')['Max AQI'].agg(np.mean).sort_values(ascending=False).rename('Average Max AQI')[0:10]\n",
    "\n",
    "\n",
    "print(\"Worst Median AQI : \\n{}\\n\".format(worst_median_aqis))\n",
    "print(\"Worst Max AQI : \\n{}\".format(worst_max_aqis))\n",
    "\n",
    "np.round(list(worst_max_aqis), 2)"
   ]
  },
  {
   "cell_type": "code",
   "execution_count": 17,
   "id": "308f7328",
   "metadata": {
    "deletable": false,
    "editable": false
   },
   "outputs": [
    {
     "data": {
      "text/html": [
       "<p><strong><pre style='display: inline;'>q3a</pre></strong> passed!</p>"
      ],
      "text/plain": [
       "q3a results: All test cases passed!"
      ]
     },
     "execution_count": 17,
     "metadata": {},
     "output_type": "execute_result"
    }
   ],
   "source": [
    "grader.check(\"q3a\")"
   ]
  },
  {
   "cell_type": "markdown",
   "id": "2ed7af0d",
   "metadata": {
    "deletable": false,
    "editable": false,
    "tags": []
   },
   "source": [
    "<!-- BEGIN QUESTION -->\n",
    "\n",
    "<br/>\n",
    "\n",
    "### Question 3b: Worst AQI States\n",
    "\n",
    "What are the states that are in both of the top 10 lists? Why do you think most of these states are on both of the lists?\n",
    "\n",
    "<!--\n",
    "BEGIN QUESTION\n",
    "name: q3b\n",
    "manual: True\n",
    "points: 2\n",
    "-->"
   ]
  },
  {
   "cell_type": "markdown",
   "id": "5afe8e40",
   "metadata": {},
   "source": [
    "California, Arizona, Connecticut, and Nevada are the states that are in both the top 10 lists. I think states like California, Arizona, and Nevada are in both these lists because of their large and growing population which causes a lot of autombile and industrial pollution. I think Conneticut is also in both list because of their high levels of ozone pollution."
   ]
  },
  {
   "cell_type": "markdown",
   "id": "129b9ef4",
   "metadata": {
    "deletable": false,
    "editable": false
   },
   "source": [
    "<!-- END QUESTION -->\n",
    "\n",
    "<br/>\n",
    "\n",
    "### Question 4a: Missing AQI Data\n",
    "\n",
    "We want to see the accessibility of the AQI data across states. In the following cell, assign `days_with_AQI` to a series that contains the state as the index and the average number of days with AQI entries across all counties in that state as the value. Make sure to label the series as `Days with AQI` and sort in ascending order (smallest average number of days at the top). As before, make sure to remove the regions that are not **US States** from your series.\n",
    "\n",
    "<!--\n",
    "BEGIN QUESTION\n",
    "name: q4a\n",
    "points: 2\n",
    "-->"
   ]
  },
  {
   "cell_type": "code",
   "execution_count": 18,
   "id": "200bab31",
   "metadata": {},
   "outputs": [
    {
     "data": {
      "text/plain": [
       "State\n",
       "Alaska        235.222222\n",
       "Arkansas      251.545455\n",
       "New Mexico    264.062500\n",
       "Virginia      265.303030\n",
       "Colorado      278.892857\n",
       "Name: Days with AQI, dtype: float64"
      ]
     },
     "execution_count": 18,
     "metadata": {},
     "output_type": "execute_result"
    }
   ],
   "source": [
    "days_with_AQI = filtered_aqi.groupby('State')['Days with AQI'].agg(np.mean).sort_values()\n",
    "\n",
    "\n",
    "days_with_AQI.head()"
   ]
  },
  {
   "cell_type": "code",
   "execution_count": 19,
   "id": "c7982396",
   "metadata": {
    "deletable": false,
    "editable": false
   },
   "outputs": [
    {
     "data": {
      "text/html": [
       "<p><strong><pre style='display: inline;'>q4a</pre></strong> passed!</p>"
      ],
      "text/plain": [
       "q4a results: All test cases passed!"
      ]
     },
     "execution_count": 19,
     "metadata": {},
     "output_type": "execute_result"
    }
   ],
   "source": [
    "grader.check(\"q4a\")"
   ]
  },
  {
   "cell_type": "markdown",
   "id": "77eeaccc",
   "metadata": {},
   "source": [
    "<br/>\n",
    "\n",
    "### Question 4b: What are the missing dates?\n",
    "\n",
    "In the following cell, we create the series `ca_aqi_days` that outputs a series with each county in California mapped to the number of days that they have AQI data on. Notice that there exists a few counties without the full year of data, which is what you will be taking a closer look at in the following two parts."
   ]
  },
  {
   "cell_type": "code",
   "execution_count": 20,
   "id": "9442b8cb",
   "metadata": {},
   "outputs": [
    {
     "data": {
      "text/plain": [
       "54    274\n",
       "96    331\n",
       "63    351\n",
       "98    353\n",
       "49    359\n",
       "76    360\n",
       "51    364\n",
       "57    364\n",
       "72    365\n",
       "79    366\n",
       "Name: Days with AQI, dtype: int64"
      ]
     },
     "execution_count": 20,
     "metadata": {},
     "output_type": "execute_result"
    }
   ],
   "source": [
    "ca_annual_data = epa_data.get('annual_county_aqi')[epa_data.get('annual_county_aqi')['State'] == 'California']\n",
    "ca_aqi_days = ca_annual_data['Days with AQI'].sort_values()\n",
    "ca_aqi_days.head(10)"
   ]
  },
  {
   "cell_type": "markdown",
   "id": "792d52bc",
   "metadata": {
    "deletable": false,
    "editable": false
   },
   "source": [
    "#### Question 4bi: Missing Days\n",
    "\n",
    "Assign `county_to_missing_dates` to a dictionary that maps each county with less than the full year of data to the dates that have missing AQI data. Make sure that your keys are just the county name (no whitespace around it or `, California` appended to it) and the values are of the format `yyyy-mm-dd`.\n",
    "\n",
    "<!--\n",
    "BEGIN QUESTION\n",
    "name: q4i\n",
    "points: 2\n",
    "-->"
   ]
  },
  {
   "cell_type": "code",
   "execution_count": 21,
   "id": "6c64da0f",
   "metadata": {},
   "outputs": [
    {
     "data": {
      "text/plain": [
       "{'Amador': ['2020-01-04',\n",
       "  '2020-01-05',\n",
       "  '2020-01-06',\n",
       "  '2020-01-07',\n",
       "  '2020-08-24',\n",
       "  '2020-10-17',\n",
       "  '2020-10-18'],\n",
       " 'Calaveras': ['2020-06-04', '2020-09-21'],\n",
       " 'Del Norte': ['2020-01-15',\n",
       "  '2020-01-16',\n",
       "  '2020-01-17',\n",
       "  '2020-01-18',\n",
       "  '2020-01-20',\n",
       "  '2020-01-21',\n",
       "  '2020-01-23',\n",
       "  '2020-03-14',\n",
       "  '2020-03-15',\n",
       "  '2020-04-22',\n",
       "  '2020-04-23',\n",
       "  '2020-04-25',\n",
       "  '2020-04-26',\n",
       "  '2020-04-28',\n",
       "  '2020-04-29',\n",
       "  '2020-05-01',\n",
       "  '2020-05-02',\n",
       "  '2020-05-04',\n",
       "  '2020-05-05',\n",
       "  '2020-05-07',\n",
       "  '2020-05-08',\n",
       "  '2020-05-10',\n",
       "  '2020-05-11',\n",
       "  '2020-05-13',\n",
       "  '2020-05-14',\n",
       "  '2020-05-16',\n",
       "  '2020-05-17',\n",
       "  '2020-05-19',\n",
       "  '2020-05-20',\n",
       "  '2020-05-22',\n",
       "  '2020-05-23',\n",
       "  '2020-05-25',\n",
       "  '2020-05-26',\n",
       "  '2020-05-28',\n",
       "  '2020-05-29',\n",
       "  '2020-05-31',\n",
       "  '2020-06-01',\n",
       "  '2020-06-02',\n",
       "  '2020-06-03',\n",
       "  '2020-06-04',\n",
       "  '2020-06-05',\n",
       "  '2020-06-06',\n",
       "  '2020-06-07',\n",
       "  '2020-06-08',\n",
       "  '2020-06-09',\n",
       "  '2020-06-10',\n",
       "  '2020-06-11',\n",
       "  '2020-06-12',\n",
       "  '2020-06-13',\n",
       "  '2020-06-14',\n",
       "  '2020-06-15',\n",
       "  '2020-06-16',\n",
       "  '2020-06-17',\n",
       "  '2020-06-18',\n",
       "  '2020-06-19',\n",
       "  '2020-06-20',\n",
       "  '2020-06-21',\n",
       "  '2020-06-22',\n",
       "  '2020-06-23',\n",
       "  '2020-06-24',\n",
       "  '2020-06-25',\n",
       "  '2020-06-26',\n",
       "  '2020-06-27',\n",
       "  '2020-06-28',\n",
       "  '2020-06-29',\n",
       "  '2020-06-30',\n",
       "  '2020-07-01',\n",
       "  '2020-07-02',\n",
       "  '2020-07-03',\n",
       "  '2020-07-04',\n",
       "  '2020-07-05',\n",
       "  '2020-07-06',\n",
       "  '2020-07-07',\n",
       "  '2020-07-08',\n",
       "  '2020-07-09',\n",
       "  '2020-07-10',\n",
       "  '2020-07-11',\n",
       "  '2020-07-12',\n",
       "  '2020-07-13',\n",
       "  '2020-07-14',\n",
       "  '2020-07-15',\n",
       "  '2020-07-16',\n",
       "  '2020-07-17',\n",
       "  '2020-07-18',\n",
       "  '2020-07-19',\n",
       "  '2020-07-20',\n",
       "  '2020-07-21',\n",
       "  '2020-09-13',\n",
       "  '2020-09-14',\n",
       "  '2020-09-15',\n",
       "  '2020-12-02',\n",
       "  '2020-12-03'],\n",
       " 'Glenn': ['2020-11-08', '2020-11-11'],\n",
       " 'Lake': ['2020-02-04',\n",
       "  '2020-02-05',\n",
       "  '2020-02-29',\n",
       "  '2020-04-24',\n",
       "  '2020-05-04',\n",
       "  '2020-05-05',\n",
       "  '2020-05-06',\n",
       "  '2020-05-07',\n",
       "  '2020-06-16',\n",
       "  '2020-06-17',\n",
       "  '2020-08-17',\n",
       "  '2020-08-22',\n",
       "  '2020-08-23',\n",
       "  '2020-08-24',\n",
       "  '2020-10-21'],\n",
       " 'Napa': ['2020-11-04'],\n",
       " 'Plumas': ['2020-01-06',\n",
       "  '2020-02-16',\n",
       "  '2020-02-25',\n",
       "  '2020-02-26',\n",
       "  '2020-02-28',\n",
       "  '2020-02-29'],\n",
       " 'Trinity': ['2020-01-29',\n",
       "  '2020-02-28',\n",
       "  '2020-02-29',\n",
       "  '2020-03-02',\n",
       "  '2020-03-03',\n",
       "  '2020-07-01',\n",
       "  '2020-07-02',\n",
       "  '2020-07-03',\n",
       "  '2020-07-04',\n",
       "  '2020-07-05',\n",
       "  '2020-07-06',\n",
       "  '2020-07-08',\n",
       "  '2020-07-09',\n",
       "  '2020-07-10',\n",
       "  '2020-07-11',\n",
       "  '2020-07-12',\n",
       "  '2020-07-13',\n",
       "  '2020-07-14',\n",
       "  '2020-07-23',\n",
       "  '2020-07-24',\n",
       "  '2020-07-25',\n",
       "  '2020-07-26',\n",
       "  '2020-07-27',\n",
       "  '2020-07-28',\n",
       "  '2020-07-29',\n",
       "  '2020-07-30',\n",
       "  '2020-07-31',\n",
       "  '2020-08-01',\n",
       "  '2020-08-02',\n",
       "  '2020-08-03',\n",
       "  '2020-08-13',\n",
       "  '2020-09-27',\n",
       "  '2020-09-28',\n",
       "  '2020-12-01',\n",
       "  '2020-12-02'],\n",
       " 'Tuolumne': ['2020-01-08',\n",
       "  '2020-01-26',\n",
       "  '2020-01-27',\n",
       "  '2020-01-28',\n",
       "  '2020-01-29',\n",
       "  '2020-01-30',\n",
       "  '2020-01-31',\n",
       "  '2020-02-01',\n",
       "  '2020-02-02',\n",
       "  '2020-02-03',\n",
       "  '2020-09-07',\n",
       "  '2020-09-08',\n",
       "  '2020-10-25']}"
      ]
     },
     "execution_count": 21,
     "metadata": {},
     "output_type": "execute_result"
    }
   ],
   "source": [
    "county_to_missing_dates = {}\n",
    "ca_daily_data = epa_data_CA.get('daily_county_aqi')\n",
    "county_list = ca_annual_data[ca_annual_data['Days with AQI'] != 366]['County']\n",
    "days_in_year = ca_daily_data[ca_daily_data['county Name'] == 'Alameda']['Date']\n",
    "\n",
    "for county in county_list:\n",
    "    county_dates = ca_daily_data[ca_daily_data['county Name'] == county]['Date']\n",
    "    county_to_missing_dates[county] = list(days_in_year[days_in_year.isin(county_dates)==False])\n",
    "    \n",
    "county_to_missing_dates"
   ]
  },
  {
   "cell_type": "code",
   "execution_count": 22,
   "id": "e2470372",
   "metadata": {
    "deletable": false,
    "editable": false
   },
   "outputs": [
    {
     "data": {
      "text/html": [
       "<p><strong><pre style='display: inline;'>q4i</pre></strong> passed!</p>"
      ],
      "text/plain": [
       "q4i results: All test cases passed!"
      ]
     },
     "execution_count": 22,
     "metadata": {},
     "output_type": "execute_result"
    }
   ],
   "source": [
    "grader.check(\"q4i\")"
   ]
  },
  {
   "cell_type": "markdown",
   "id": "ff49cc54",
   "metadata": {
    "deletable": false,
    "editable": false
   },
   "source": [
    "<!-- BEGIN QUESTION -->\n",
    "\n",
    "#### Question 4bii: Missing Days\n",
    "\n",
    "Are there any key missing dates in common between the counties that have missing AQI data? What two counties have the most missing days and why do you think they do?\n",
    "\n",
    "<!--\n",
    "BEGIN QUESTION\n",
    "name: q4bii\n",
    "manual: True\n",
    "points: 2\n",
    "-->"
   ]
  },
  {
   "cell_type": "markdown",
   "id": "07c6c60a",
   "metadata": {},
   "source": [
    "There are key missing dates in common between the counties that have mssing AQI data. For example, 2020-02-29 is a missing day for Lake, Plumas, and Trinity counties. This may be because 2020-02-29 is a leap day and only added to leap years. For this reason, counties such as Lake, Plumas, and Trinity may decide not to record the AQI on this day. Some key missing dates can also be found between Del Norte and Trinity. Both have a good chunk missing from their month of Juky. Both counties have missing days ranging from 2020-07-01 to 2020-07-14. Wildfire season may have affected these two counties so much that there was no monitoring for these days. The two counties that have the most missing days are Del Norte and Trinity. One reason why there might be so many missing days for these two counties may be because there might not be a reliable AQI monitoring stations. Del Norte and Trinity are very rural areas and may not have the consistent technology."
   ]
  },
  {
   "cell_type": "markdown",
   "id": "fbbc718f",
   "metadata": {},
   "source": [
    "<!-- END QUESTION -->\n",
    "\n",
    "\n",
    "\n",
    "<br/>\n",
    "\n",
    "### Question 5a: AQI over Time "
   ]
  },
  {
   "cell_type": "markdown",
   "id": "aeeba668",
   "metadata": {
    "deletable": false,
    "editable": false
   },
   "source": [
    "Assign `aqi_per_month` to a series of the average aqi per month across all US states and `aqi_per_month_CA` to a series of the average AQI per month across California.\n",
    "\n",
    "<!--\n",
    "BEGIN QUESTION\n",
    "name: q5a\n",
    "points: 1\n",
    "-->"
   ]
  },
  {
   "cell_type": "code",
   "execution_count": 23,
   "id": "a243c2dc",
   "metadata": {},
   "outputs": [
    {
     "name": "stdout",
     "output_type": "stream",
     "text": [
      "AQI per Month: \n",
      "Month\n",
      "1     31.032050\n",
      "2     32.258621\n",
      "3     34.509181\n",
      "4     37.287264\n",
      "5     36.273464\n",
      "6     40.533681\n",
      "7     40.070404\n",
      "8     41.252281\n",
      "9     43.290611\n",
      "10    35.285558\n",
      "11    34.184020\n",
      "12    34.990632\n",
      "Name: AQI, dtype: float64\n",
      "\n",
      "AQI per Month California : \n",
      "Month\n",
      "1      46.346888\n",
      "2      47.110236\n",
      "3      40.114094\n",
      "4      41.443462\n",
      "5      49.538319\n",
      "6      47.996146\n",
      "7      56.069375\n",
      "8      79.960220\n",
      "9     107.020228\n",
      "10     75.491763\n",
      "11     52.070573\n",
      "12     53.645516\n",
      "Name: AQI, dtype: float64\n"
     ]
    }
   ],
   "source": [
    "aqi_per_month = epa_data.get('daily_county_aqi').groupby('Month')['AQI'].agg(np.mean)\n",
    "aqi_per_month_CA = epa_data.get('daily_county_aqi').query('`State Name` == \"California\"').groupby('Month')['AQI'].agg(np.mean)\n",
    "\n",
    "print(\"AQI per Month: \\n{}\\n\".format(aqi_per_month))\n",
    "print(\"AQI per Month California : \\n{}\".format(aqi_per_month_CA))"
   ]
  },
  {
   "cell_type": "code",
   "execution_count": 24,
   "id": "c03e76e1",
   "metadata": {
    "deletable": false,
    "editable": false
   },
   "outputs": [
    {
     "data": {
      "text/html": [
       "<p><strong><pre style='display: inline;'>q5a</pre></strong> passed!</p>"
      ],
      "text/plain": [
       "q5a results: All test cases passed!"
      ]
     },
     "execution_count": 24,
     "metadata": {},
     "output_type": "execute_result"
    }
   ],
   "source": [
    "grader.check(\"q5a\")"
   ]
  },
  {
   "cell_type": "markdown",
   "id": "738baa95",
   "metadata": {
    "deletable": false,
    "editable": false
   },
   "source": [
    "<!-- BEGIN QUESTION -->\n",
    "\n",
    "<br/>\n",
    "\n",
    "### Question 5b: AQI over Time Analysis \n",
    "\n",
    "Is there anything interesting that you notice in `aqi_per_month_CA`? If so, why do you think that is?\n",
    "\n",
    "<!--\n",
    "BEGIN QUESTION\n",
    "name: q5b\n",
    "manual: True\n",
    "points: 1\n",
    "-->"
   ]
  },
  {
   "cell_type": "markdown",
   "id": "bf8fcea7",
   "metadata": {},
   "source": [
    "Something that is interesting in aqi_per_month_CA is that the average AQI per month across California is higher than the average AQI per month across the US for all months. This tells us that the overall average AQI in California is higher than the national average all throughout the year. This reasoning for this may be due to to large population in US and thus more automobile pollution throughout the year. Another reason for this is due to the California wildfires that ravage the state throughout the year. We can see espcially high average AQI for California from August-October which are part of the wildfire seasons."
   ]
  },
  {
   "cell_type": "markdown",
   "id": "e939efa5",
   "metadata": {
    "deletable": false,
    "editable": false
   },
   "source": [
    "<!-- END QUESTION -->\n",
    "\n",
    "<!-- BEGIN QUESTION -->\n",
    "\n",
    "<br/>\n",
    "\n",
    "### Question 5c: Modeling AQI over Time\n",
    "\n",
    "Based on the AQI pattern in the year 2020, if we were to model AQI over the last 10 years, with the average AQI per year being the same, what sort of parametric function $f(x)$ would you use? Let us say that we see a linear increase in the average AQI per year over the last 10 years instead, then what parametric function $g(x)$ would you use?\n",
    "\n",
    "<!--\n",
    "BEGIN QUESTION\n",
    "name: q5c\n",
    "manual: True\n",
    "points: 3\n",
    "-->"
   ]
  },
  {
   "cell_type": "markdown",
   "id": "44e24030",
   "metadata": {},
   "source": [
    "Based on the AQI pattern in the year 2020, if we were to model the AQI over the last 10 years, with the the average AQI per year being the same, our parametric function $f(x)$ would use a sinusoidal function. If the average AQI per year is the same as the pattern in 2020, the average AQI will increase until a certain peak and fall back down during that year and then reapats the same up and down motion for future years, thus following the form of a sinusoidal function. If we see a linear increase in the average AQI per year over the last 10 years instead, then the parametric function $g(x)$ we would use is $f(x)$ multiplied by a linear function. This is because our average AQI would still keep the form of a sinusoidal function increasing and then decreasing due to wildfire season, but we would multiply this by a linear function since there is a linear increase in average AQI per year."
   ]
  },
  {
   "cell_type": "markdown",
   "id": "389dc921",
   "metadata": {},
   "source": [
    "<!-- END QUESTION -->\n",
    "\n",
    "\n",
    "\n",
    "<br/>\n",
    "\n",
    "### Question 6a: Create Heatmap Buckets\n",
    "\n",
    "Now we want to create a function called `bucket_data`, which takes in the following parameters: `table`, `resolution`. It outputs a pivot table with the latitude bucket (smallest latitude for that grid point) on the index and the longitude bucket (smallest longitude for that grid point) on the columns. The values in the pivot table should be the average AQI of the monitor sites inside that respective rectangle grid of latitudes and longitudes. The following should be the output of `bucket_data(epa_data_CA_merged, np.mean, 5)`:\n",
    "\n",
    "<img src=\"images/q6a.png\" width=\"600px\" align=\"center\"/>"
   ]
  },
  {
   "cell_type": "markdown",
   "id": "65b89123",
   "metadata": {
    "deletable": false,
    "editable": false
   },
   "source": [
    "The `resolution` parameter describes the number of buckets that the latitudes and longitudes are divided into on the heatmap. As an example, let us say that the range of longitudes for site monitors are between \\[100, 110\\]; make sure that the start of the range is exactly the **minimum** of all longitude values of your site monitors and the end of the range is the exactly the **maximum** of all longitude values of your site monitors. Let us say that we have a resolution of 10. Then we have the buckets \n",
    "$$([100, 101], [101, 102], ..., [109, 110])$$\n",
    "\n",
    "The column and row labels of this dataframe should be labelled as the **start** of the bucket. In the case of the example above, the names of the buckets should be $ 100, 101, \\dots 109 $. Note that we are just looking at the longitude dimension in this example, and you have to do do the same for the latitude dimension along the rows in order to build the pivot table.\n",
    "\n",
    "Finally, make sure the row and column labels of your pivot table are **exactly** the same as the example given above. \n",
    "<!--\n",
    "BEGIN QUESTION\n",
    "name: q6a\n",
    "points: 6\n",
    "-->"
   ]
  },
  {
   "cell_type": "code",
   "execution_count": 25,
   "id": "7c0eb71f",
   "metadata": {},
   "outputs": [
    {
     "data": {
      "text/html": [
       "<div>\n",
       "<style scoped>\n",
       "    .dataframe tbody tr th:only-of-type {\n",
       "        vertical-align: middle;\n",
       "    }\n",
       "\n",
       "    .dataframe tbody tr th {\n",
       "        vertical-align: top;\n",
       "    }\n",
       "\n",
       "    .dataframe thead th {\n",
       "        text-align: right;\n",
       "    }\n",
       "</style>\n",
       "<table border=\"1\" class=\"dataframe\">\n",
       "  <thead>\n",
       "    <tr style=\"text-align: right;\">\n",
       "      <th>long_bucket</th>\n",
       "      <th>-124.2</th>\n",
       "      <th>-122.28</th>\n",
       "      <th>-120.36</th>\n",
       "      <th>-118.44</th>\n",
       "      <th>-116.52</th>\n",
       "    </tr>\n",
       "    <tr>\n",
       "      <th>lat_bucket</th>\n",
       "      <th></th>\n",
       "      <th></th>\n",
       "      <th></th>\n",
       "      <th></th>\n",
       "      <th></th>\n",
       "    </tr>\n",
       "  </thead>\n",
       "  <tbody>\n",
       "    <tr>\n",
       "      <th>32.58</th>\n",
       "      <td>NaN</td>\n",
       "      <td>NaN</td>\n",
       "      <td>65.317391</td>\n",
       "      <td>87.059645</td>\n",
       "      <td>67.955508</td>\n",
       "    </tr>\n",
       "    <tr>\n",
       "      <th>34.41</th>\n",
       "      <td>NaN</td>\n",
       "      <td>50.221983</td>\n",
       "      <td>67.597970</td>\n",
       "      <td>74.442308</td>\n",
       "      <td>58.294118</td>\n",
       "    </tr>\n",
       "    <tr>\n",
       "      <th>36.25</th>\n",
       "      <td>42.792276</td>\n",
       "      <td>51.489882</td>\n",
       "      <td>81.094254</td>\n",
       "      <td>74.704918</td>\n",
       "      <td>NaN</td>\n",
       "    </tr>\n",
       "    <tr>\n",
       "      <th>38.08</th>\n",
       "      <td>38.934803</td>\n",
       "      <td>53.699484</td>\n",
       "      <td>48.977778</td>\n",
       "      <td>NaN</td>\n",
       "      <td>NaN</td>\n",
       "    </tr>\n",
       "    <tr>\n",
       "      <th>39.92</th>\n",
       "      <td>38.790792</td>\n",
       "      <td>55.207065</td>\n",
       "      <td>NaN</td>\n",
       "      <td>NaN</td>\n",
       "      <td>NaN</td>\n",
       "    </tr>\n",
       "  </tbody>\n",
       "</table>\n",
       "</div>"
      ],
      "text/plain": [
       "long_bucket     -124.2    -122.28    -120.36    -118.44    -116.52\n",
       "lat_bucket                                                        \n",
       "32.58              NaN        NaN  65.317391  87.059645  67.955508\n",
       "34.41              NaN  50.221983  67.597970  74.442308  58.294118\n",
       "36.25        42.792276  51.489882  81.094254  74.704918        NaN\n",
       "38.08        38.934803  53.699484  48.977778        NaN        NaN\n",
       "39.92        38.790792  55.207065        NaN        NaN        NaN"
      ]
     },
     "execution_count": 25,
     "metadata": {},
     "output_type": "execute_result"
    }
   ],
   "source": [
    "def bucket_data(table, aggfunc, resolution):\n",
    "    table = table.copy()\n",
    "    table['lat_bucket'] = pd.cut(table['Latitude'], bins=resolution, right=False, precision=2, labels=np.round(np.linspace(table['Latitude'].min(), table['Latitude'].max(), resolution, endpoint=False),2))\n",
    "    table['long_bucket'] = pd.cut(table['Longitude'], bins=resolution, right=False, precision=2, labels=np.round(np.linspace(table['Longitude'].min(), table['Longitude'].max(), resolution, endpoint=False),2))\n",
    "    pivoted = pd.pivot_table(data=table, values='AQI', index='lat_bucket', columns='long_bucket', aggfunc=aggfunc)\n",
    "    return pivoted \n",
    "\n",
    "bucket_data(epa_data_CA_merged, np.mean, 5)"
   ]
  },
  {
   "cell_type": "code",
   "execution_count": 26,
   "id": "4b097507",
   "metadata": {
    "deletable": false,
    "editable": false
   },
   "outputs": [
    {
     "data": {
      "text/html": [
       "<p><strong><pre style='display: inline;'>q6a</pre></strong> passed!</p>"
      ],
      "text/plain": [
       "q6a results: All test cases passed!"
      ]
     },
     "execution_count": 26,
     "metadata": {},
     "output_type": "execute_result"
    }
   ],
   "source": [
    "grader.check(\"q6a\")"
   ]
  },
  {
   "cell_type": "markdown",
   "id": "39ec7023",
   "metadata": {
    "deletable": false,
    "editable": false
   },
   "source": [
    "<br/>\n",
    "\n",
    "### Question 6b: Visualize Heatmap\n",
    "\n",
    "Assign `heatmap_data` to a heatmap bucket pivot table aggregated by median with resolution 30 for California AQI for the month of september. The code in the following cell will plot this heatmap for you. \n",
    "\n",
    "<!--\n",
    "BEGIN QUESTION\n",
    "name: q6b\n",
    "points: 1\n",
    "-->"
   ]
  },
  {
   "cell_type": "code",
   "execution_count": 27,
   "id": "80dddafb",
   "metadata": {},
   "outputs": [
    {
     "data": {
      "image/png": "[encoded data removed]",
      "text/plain": [
       "<Figure size 1080x576 with 2 Axes>"
      ]
     },
     "metadata": {
      "needs_background": "light"
     },
     "output_type": "display_data"
    }
   ],
   "source": [
    "sept_ca = epa_data_CA_merged.query('Month == 9')\n",
    "heatmap_data = bucket_data(sept_ca, np.median, 30)\n",
    "\n",
    "\n",
    "#create visualization\n",
    "plt.figure(figsize=(15, 8))\n",
    "ax = sns.heatmap(heatmap_data, vmin=0, vmax=230, cmap = sns.cm.rocket_r)\n",
    "ax.invert_yaxis()\n",
    "plt.show()"
   ]
  },
  {
   "cell_type": "code",
   "execution_count": 28,
   "id": "f26c7478",
   "metadata": {
    "deletable": false,
    "editable": false
   },
   "outputs": [
    {
     "data": {
      "text/html": [
       "<p><strong><pre style='display: inline;'>q6b</pre></strong> passed!</p>"
      ],
      "text/plain": [
       "q6b results: All test cases passed!"
      ]
     },
     "execution_count": 28,
     "metadata": {},
     "output_type": "execute_result"
    }
   ],
   "source": [
    "grader.check(\"q6b\")"
   ]
  },
  {
   "cell_type": "markdown",
   "id": "dfc1c343",
   "metadata": {
    "deletable": false,
    "editable": false
   },
   "source": [
    "<!-- BEGIN QUESTION -->\n",
    "\n",
    "<br/>\n",
    "\n",
    "### Question 6c: Analyze Heatmap\n",
    "\n",
    "Look up where the dark regions correspond to. Does this heatmap make sense?\n",
    "\n",
    "<!--\n",
    "BEGIN QUESTION\n",
    "name: q6c\n",
    "manual: True\n",
    "points: 2\n",
    "-->"
   ]
  },
  {
   "cell_type": "markdown",
   "id": "1338999e",
   "metadata": {},
   "source": [
    "The dark areas on the bottom right with coordinates (lat_bucket= 34.41, long_bucket = -117.23 )correspond to northern Los Angeles County and the San Gabriel Mountains. This heatmap makes sense because the dark spots represent the highest median AQI and their location in California in September 2020. In Spetmeber 2020, the Bobcat Wildfire ravaged northern Los Angeles and the San Gabriel Mountains which can be seen as the bottom right dark spots. There are also very dark spots near the middle of the map with coordinates (lat_bucket=37.47, long_bucket=-118.97) which corresponds to Fresno County Mountains. This heatmap makes sense since during September 2020, Fresno County expereinced the Creek Fire, the one of the largest fires in California history."
   ]
  },
  {
   "cell_type": "markdown",
   "id": "bb9e18aa",
   "metadata": {},
   "source": [
    "<!-- END QUESTION -->\n",
    "\n",
    "\n",
    "\n",
    "<br/><br/>\n",
    "\n",
    "---\n",
    "## Part 3: Open-Ended EDA\n",
    "\n",
    "Not that we have explored the data both spatially and temporally, we want to be able to look at what other indicators there are for air quality in California. Through the previous few questions we have discussed that wilfire data as well as temperature may be good indicators, but we can explitly look at correlations via the temperature to verify our hypothesis. Like temperature, there are other columns of data such as particulate matter, chemical concentrations, wind data, etc. Your open-ended EDA will be useful for filling in missing points in the heatmap that you created in question 4b. \n",
    "\n",
    "Your goal in this question is to find relationships between AQI and other features in the current datasets, across time and space. Your exploration can include, but is not limited to: \n",
    "- Looking at correlations between AQI and various columns of interest in `epa_data_CA`.\n",
    "    - This will require some merging, which you can look at question 1 for reference. \n",
    "- Performing clustering and/or other unsupervised learning methods such as PCA to discover clusters or useful (combinations of) features in the data.\n",
    "- Merging and exploring other external datasets that you may think are useful."
   ]
  },
  {
   "cell_type": "markdown",
   "id": "af361520",
   "metadata": {
    "deletable": false,
    "editable": false
   },
   "source": [
    "<!-- BEGIN QUESTION -->\n",
    "\n",
    "### Question 7a - Code and Analysis\n",
    "\n",
    "Please complete all of your analysis in the **single cell** below based on the prompt above.\n",
    "\n",
    "<!--\n",
    "BEGIN QUESTION\n",
    "name: q7a\n",
    "manual: True\n",
    "points: 10\n",
    "-->"
   ]
  },
  {
   "cell_type": "code",
   "execution_count": 29,
   "id": "d584c43f",
   "metadata": {},
   "outputs": [
    {
     "data": {
      "text/html": [
       "<div>\n",
       "<style scoped>\n",
       "    .dataframe tbody tr th:only-of-type {\n",
       "        vertical-align: middle;\n",
       "    }\n",
       "\n",
       "    .dataframe tbody tr th {\n",
       "        vertical-align: top;\n",
       "    }\n",
       "\n",
       "    .dataframe thead th {\n",
       "        text-align: right;\n",
       "    }\n",
       "</style>\n",
       "<table border=\"1\" class=\"dataframe\">\n",
       "  <thead>\n",
       "    <tr style=\"text-align: right;\">\n",
       "      <th></th>\n",
       "      <th>State Name</th>\n",
       "      <th>County Name</th>\n",
       "      <th>Defining Site</th>\n",
       "      <th>Site Num</th>\n",
       "      <th>Month</th>\n",
       "      <th>Day</th>\n",
       "      <th>Latitude</th>\n",
       "      <th>Longitude</th>\n",
       "      <th>AQI</th>\n",
       "      <th>ozone</th>\n",
       "      <th>Wind</th>\n",
       "      <th>Temp</th>\n",
       "    </tr>\n",
       "  </thead>\n",
       "  <tbody>\n",
       "    <tr>\n",
       "      <th>0</th>\n",
       "      <td>California</td>\n",
       "      <td>Amador</td>\n",
       "      <td>06-005-0002</td>\n",
       "      <td>2</td>\n",
       "      <td>1</td>\n",
       "      <td>1</td>\n",
       "      <td>38.342606</td>\n",
       "      <td>-120.764426</td>\n",
       "      <td>25</td>\n",
       "      <td>0.027</td>\n",
       "      <td>4.4</td>\n",
       "      <td>58.8</td>\n",
       "    </tr>\n",
       "    <tr>\n",
       "      <th>1</th>\n",
       "      <td>California</td>\n",
       "      <td>Amador</td>\n",
       "      <td>06-005-0002</td>\n",
       "      <td>2</td>\n",
       "      <td>1</td>\n",
       "      <td>2</td>\n",
       "      <td>38.342606</td>\n",
       "      <td>-120.764426</td>\n",
       "      <td>18</td>\n",
       "      <td>0.019</td>\n",
       "      <td>3.6</td>\n",
       "      <td>59.5</td>\n",
       "    </tr>\n",
       "    <tr>\n",
       "      <th>2</th>\n",
       "      <td>California</td>\n",
       "      <td>Amador</td>\n",
       "      <td>06-005-0002</td>\n",
       "      <td>2</td>\n",
       "      <td>1</td>\n",
       "      <td>3</td>\n",
       "      <td>38.342606</td>\n",
       "      <td>-120.764426</td>\n",
       "      <td>19</td>\n",
       "      <td>0.020</td>\n",
       "      <td>3.9</td>\n",
       "      <td>61.5</td>\n",
       "    </tr>\n",
       "    <tr>\n",
       "      <th>3</th>\n",
       "      <td>California</td>\n",
       "      <td>Amador</td>\n",
       "      <td>06-005-0002</td>\n",
       "      <td>2</td>\n",
       "      <td>1</td>\n",
       "      <td>8</td>\n",
       "      <td>38.342606</td>\n",
       "      <td>-120.764426</td>\n",
       "      <td>23</td>\n",
       "      <td>0.025</td>\n",
       "      <td>3.1</td>\n",
       "      <td>49.5</td>\n",
       "    </tr>\n",
       "    <tr>\n",
       "      <th>4</th>\n",
       "      <td>California</td>\n",
       "      <td>Amador</td>\n",
       "      <td>06-005-0002</td>\n",
       "      <td>2</td>\n",
       "      <td>1</td>\n",
       "      <td>9</td>\n",
       "      <td>38.342606</td>\n",
       "      <td>-120.764426</td>\n",
       "      <td>25</td>\n",
       "      <td>0.027</td>\n",
       "      <td>2.7</td>\n",
       "      <td>46.9</td>\n",
       "    </tr>\n",
       "    <tr>\n",
       "      <th>...</th>\n",
       "      <td>...</td>\n",
       "      <td>...</td>\n",
       "      <td>...</td>\n",
       "      <td>...</td>\n",
       "      <td>...</td>\n",
       "      <td>...</td>\n",
       "      <td>...</td>\n",
       "      <td>...</td>\n",
       "      <td>...</td>\n",
       "      <td>...</td>\n",
       "      <td>...</td>\n",
       "      <td>...</td>\n",
       "    </tr>\n",
       "    <tr>\n",
       "      <th>8868</th>\n",
       "      <td>California</td>\n",
       "      <td>Yolo</td>\n",
       "      <td>06-113-0004</td>\n",
       "      <td>4</td>\n",
       "      <td>12</td>\n",
       "      <td>27</td>\n",
       "      <td>38.534450</td>\n",
       "      <td>-121.773400</td>\n",
       "      <td>20</td>\n",
       "      <td>0.022</td>\n",
       "      <td>7.7</td>\n",
       "      <td>54.7</td>\n",
       "    </tr>\n",
       "    <tr>\n",
       "      <th>8869</th>\n",
       "      <td>California</td>\n",
       "      <td>Yolo</td>\n",
       "      <td>06-113-0004</td>\n",
       "      <td>4</td>\n",
       "      <td>12</td>\n",
       "      <td>28</td>\n",
       "      <td>38.534450</td>\n",
       "      <td>-121.773400</td>\n",
       "      <td>33</td>\n",
       "      <td>0.036</td>\n",
       "      <td>9.2</td>\n",
       "      <td>54.7</td>\n",
       "    </tr>\n",
       "    <tr>\n",
       "      <th>8870</th>\n",
       "      <td>California</td>\n",
       "      <td>Yolo</td>\n",
       "      <td>06-113-0004</td>\n",
       "      <td>4</td>\n",
       "      <td>12</td>\n",
       "      <td>29</td>\n",
       "      <td>38.534450</td>\n",
       "      <td>-121.773400</td>\n",
       "      <td>28</td>\n",
       "      <td>0.030</td>\n",
       "      <td>12.2</td>\n",
       "      <td>61.5</td>\n",
       "    </tr>\n",
       "    <tr>\n",
       "      <th>8871</th>\n",
       "      <td>California</td>\n",
       "      <td>Yolo</td>\n",
       "      <td>06-113-0004</td>\n",
       "      <td>4</td>\n",
       "      <td>12</td>\n",
       "      <td>30</td>\n",
       "      <td>38.534450</td>\n",
       "      <td>-121.773400</td>\n",
       "      <td>39</td>\n",
       "      <td>0.023</td>\n",
       "      <td>10.4</td>\n",
       "      <td>55.6</td>\n",
       "    </tr>\n",
       "    <tr>\n",
       "      <th>8872</th>\n",
       "      <td>California</td>\n",
       "      <td>Yolo</td>\n",
       "      <td>06-113-0004</td>\n",
       "      <td>4</td>\n",
       "      <td>12</td>\n",
       "      <td>31</td>\n",
       "      <td>38.534450</td>\n",
       "      <td>-121.773400</td>\n",
       "      <td>35</td>\n",
       "      <td>0.031</td>\n",
       "      <td>14.4</td>\n",
       "      <td>59.2</td>\n",
       "    </tr>\n",
       "  </tbody>\n",
       "</table>\n",
       "<p>8873 rows × 12 columns</p>\n",
       "</div>"
      ],
      "text/plain": [
       "      State Name County Name Defining Site  Site Num  Month  Day   Latitude  \\\n",
       "0     California      Amador   06-005-0002         2      1    1  38.342606   \n",
       "1     California      Amador   06-005-0002         2      1    2  38.342606   \n",
       "2     California      Amador   06-005-0002         2      1    3  38.342606   \n",
       "3     California      Amador   06-005-0002         2      1    8  38.342606   \n",
       "4     California      Amador   06-005-0002         2      1    9  38.342606   \n",
       "...          ...         ...           ...       ...    ...  ...        ...   \n",
       "8868  California        Yolo   06-113-0004         4     12   27  38.534450   \n",
       "8869  California        Yolo   06-113-0004         4     12   28  38.534450   \n",
       "8870  California        Yolo   06-113-0004         4     12   29  38.534450   \n",
       "8871  California        Yolo   06-113-0004         4     12   30  38.534450   \n",
       "8872  California        Yolo   06-113-0004         4     12   31  38.534450   \n",
       "\n",
       "       Longitude  AQI  ozone  Wind  Temp  \n",
       "0    -120.764426   25  0.027   4.4  58.8  \n",
       "1    -120.764426   18  0.019   3.6  59.5  \n",
       "2    -120.764426   19  0.020   3.9  61.5  \n",
       "3    -120.764426   23  0.025   3.1  49.5  \n",
       "4    -120.764426   25  0.027   2.7  46.9  \n",
       "...          ...  ...    ...   ...   ...  \n",
       "8868 -121.773400   20  0.022   7.7  54.7  \n",
       "8869 -121.773400   33  0.036   9.2  54.7  \n",
       "8870 -121.773400   28  0.030  12.2  61.5  \n",
       "8871 -121.773400   39  0.023  10.4  55.6  \n",
       "8872 -121.773400   35  0.031  14.4  59.2  \n",
       "\n",
       "[8873 rows x 12 columns]"
      ]
     },
     "execution_count": 29,
     "metadata": {},
     "output_type": "execute_result"
    }
   ],
   "source": [
    "epa_data_CA_merged_copy = epa_data_CA_merged.copy()\n",
    "ozone = epa_data_CA.get('daily_ozone')\n",
    "wind = epa_data_CA.get('daily_temp').query('`Units of Measure` == \"Knots\"')\n",
    "temp = epa_data_CA.get('daily_wind')\n",
    "\n",
    "epa_data_CA_merged_copy['Site Num'] = epa_data_CA_merged_copy['Defining Site'].str.split('-').str.get(2).astype(int)\n",
    "epa_data_CA_merged_copy = epa_data_CA_merged_copy.rename(columns={'county Name':'County Name'})[['State Name','County Name','Defining Site','Site Num','Month','Day','Latitude','Longitude', 'AQI']]\n",
    "\n",
    "ozone['Month'] = pd.to_datetime(ozone['Date Local']).dt.month.astype(int)\n",
    "ozone['Day'] = pd.to_datetime(ozone['Date Local']).dt.day.astype(int)\n",
    "wind['Month'] = pd.to_datetime(wind['Date Local']).dt.month.astype(int)\n",
    "wind['Day'] = pd.to_datetime(wind['Date Local']).dt.day.astype(int)\n",
    "temp['Month'] = pd.to_datetime(temp['Date Local']).dt.month.astype(int)\n",
    "temp['Day'] = pd.to_datetime(temp['Date Local']).dt.day.astype(int)\n",
    "\n",
    "ozone = ozone[['State Name', 'County Name', 'Site Num','Month', 'Day', '1st Max Value']]\n",
    "wind = wind[['State Name', 'County Name', 'Site Num','Month', 'Day', '1st Max Value']]\n",
    "temp = temp[['State Name', 'County Name', 'Site Num','Month', 'Day', '1st Max Value']]\n",
    "\n",
    "epa_data_CA_merged_ozone = epa_data_CA_merged_copy.merge(ozone, how='inner', on=['State Name','County Name','Site Num','Month', 'Day']).rename(columns={'1st Max Value':'ozone'}).drop_duplicates()\n",
    "epa_data_CA_merged_ozone_wind = epa_data_CA_merged_ozone.merge(wind, how='inner', on=['State Name','County Name','Site Num','Month', 'Day']).rename(columns={'1st Max Value':'Wind'}).drop_duplicates()\n",
    "epa_data_CA_merged_ozone_wind_temp = epa_data_CA_merged_ozone_wind.merge(temp, how='inner', on=['State Name','County Name','Site Num','Month', 'Day']).rename(columns={'1st Max Value':'Temp'}).drop_duplicates()\n",
    "\n",
    "\n",
    "def bucket_data_ozone(table, aggfunc, resolution):\n",
    "    table = table.copy()\n",
    "    table['lat_bucket'] = pd.cut(table['Latitude'], bins=resolution, right=False, precision=2, labels=np.round(np.linspace(table['Latitude'].min(), table['Latitude'].max(), resolution, endpoint=False),2))\n",
    "    table['long_bucket'] = pd.cut(table['Longitude'], bins=resolution, right=False, precision=2, labels=np.round(np.linspace(table['Longitude'].min(), table['Longitude'].max(), resolution, endpoint=False),2))\n",
    "    pivoted = pd.pivot_table(data=table, values='ozone', index='lat_bucket', columns='long_bucket', aggfunc=aggfunc)\n",
    "    return pivoted \n",
    "\n",
    "def bucket_data_wind(table, aggfunc, resolution):\n",
    "    table = table.copy()\n",
    "    table['lat_bucket'] = pd.cut(table['Latitude'], bins=resolution, right=False, precision=2, labels=np.round(np.linspace(table['Latitude'].min(), table['Latitude'].max(), resolution, endpoint=False),2))\n",
    "    table['long_bucket'] = pd.cut(table['Longitude'], bins=resolution, right=False, precision=2, labels=np.round(np.linspace(table['Longitude'].min(), table['Longitude'].max(), resolution, endpoint=False),2))\n",
    "    pivoted = pd.pivot_table(data=table, values='Wind', index='lat_bucket', columns='long_bucket', aggfunc=aggfunc)\n",
    "    return pivoted \n",
    "\n",
    "epa_data_CA_merged_ozone_wind_temp"
   ]
  },
  {
   "cell_type": "markdown",
   "id": "e40a68bb",
   "metadata": {
    "deletable": false,
    "editable": false
   },
   "source": [
    "<!-- END QUESTION -->\n",
    "\n",
    "<!-- BEGIN QUESTION -->\n",
    "\n",
    "<br/>\n",
    "\n",
    "### Question 7b - Visualization\n",
    "\n",
    "Please create **two** visualizations to summarize your analysis above. The only restrictions are that these visualizations **cannot** simply be scatterplots between two features in the dataset(s) and **cannot** be of the same type (dont make two bar graphs, for example). \n",
    "\n",
    "<!--\n",
    "BEGIN QUESTION\n",
    "name: q7b\n",
    "manual: True\n",
    "points: 4\n",
    "-->"
   ]
  },
  {
   "cell_type": "code",
   "execution_count": 30,
   "id": "3f94c859",
   "metadata": {},
   "outputs": [
    {
     "data": {
      "image/png": "[encoded data removed]",
      "text/plain": [
       "<Figure size 1224x360 with 3 Axes>"
      ]
     },
     "metadata": {
      "needs_background": "light"
     },
     "output_type": "display_data"
    }
   ],
   "source": [
    "ozonemap_data = bucket_data_ozone(epa_data_CA_merged_ozone.query('Month == 9'), np.median, 30)\n",
    "windmap_data = bucket_data_wind(epa_data_CA_merged_ozone_wind.query('Month == 9'), np.median, 30)\n",
    "avg_monthly_ozone = epa_data_CA_merged_ozone.groupby('Month').mean()['ozone']\n",
    "avg_monthly_wind = epa_data_CA_merged_ozone_wind.groupby('Month').mean()['Wind']\n",
    "avg_monthly_temp = epa_data_CA_merged_ozone_wind_temp.groupby('Month').mean()['Temp']\n",
    "normalized_avg_ozone = (avg_monthly_ozone - avg_monthly_ozone.min())/(avg_monthly_ozone.max() - avg_monthly_ozone.min())\n",
    "normalized_avg_aqi = (aqi_per_month_CA - aqi_per_month_CA.min())/(aqi_per_month_CA.max() - aqi_per_month_CA.min())\n",
    "normalized_avg_wind = (avg_monthly_wind - avg_monthly_wind.min())/(avg_monthly_wind.max() - avg_monthly_wind.min())\n",
    "normalized_avg_temp = (avg_monthly_temp - avg_monthly_temp.min())/(avg_monthly_temp.max() - avg_monthly_temp.min())\n",
    "\n",
    "f, axes = plt.subplots(1, 2, figsize=(17,5))\n",
    "sns.heatmap(ozonemap_data, vmin=0, vmax=0.1, ax=axes[1], cmap=\"YlGnBu\").invert_yaxis()\n",
    "axes[1].set_title('Median Ozone Level Throughout California in September 2020')\n",
    "axes[0].set_title('Ozone Map of California in September 2020')\n",
    "axes[0].plot(avg_monthly_ozone.index , normalized_avg_ozone, label='Ozone', color='orange')\n",
    "axes[0].plot(aqi_per_month_CA.index , normalized_avg_aqi, label='AQI', color='red')\n",
    "axes[0].plot(aqi_per_month_CA.index , normalized_avg_wind, label='Wind', color='green')\n",
    "axes[0].plot(aqi_per_month_CA.index , normalized_avg_temp, label='Temp', color='purple')\n",
    "axes[0].set_xlabel('Months')\n",
    "axes[0].set_xticks([1,2,3,4,5,6,7,8,9,10,11,12])\n",
    "axes[0].set_xticklabels(['Jan','Feb','Mar','Apr','May','Jun','Jul','Aug','Sep','Oct','Nov','Dec'])\n",
    "axes[0].set_ylabel('normalized levels')\n",
    "axes[0].set_title('Normalized Avg Ozone Levels, AQI, and Wind Throughout 2020')\n",
    "axes[0].legend();"
   ]
  },
  {
   "cell_type": "markdown",
   "id": "331e4060",
   "metadata": {
    "deletable": false,
    "editable": false
   },
   "source": [
    "<!-- END QUESTION -->\n",
    "\n",
    "<!-- BEGIN QUESTION -->\n",
    "\n",
    "<br/>\n",
    "\n",
    "### Question 7c - Summary\n",
    "\n",
    "In a paragraph, summarize the your findings and visualizations and explain how they will be useful for predicting AQI. Make sure that your answer is thoughtful and detailed in that it describes what you did and how you reached your conclusion. \n",
    "\n",
    "<!--\n",
    "BEGIN QUESTION\n",
    "name: q7c\n",
    "manual: True\n",
    "points: 4\n",
    "-->"
   ]
  },
  {
   "cell_type": "markdown",
   "id": "540a0fb7",
   "metadata": {},
   "source": [
    "We were curious on how the ozone levels and wind speed may have looked in 2020 and especially in September 2020 so we can compare to the average AQI in 2020. To do this, we merged the daily_ozone DataFrame and daily_wind DataFrame to our existing epa_merged_CA DataFrame which already has the latitudes and longitudes of different locations. With the data we need, we first wanted to visualize the average ozone levels and average wind speeds throughout the months of 2020. By graphing a line plot of the normalized average ozone, normalized average wind speed, and normalized average AQI over the months of 2020 in California, we can compare the the three over time. As can be seen on the first graph, the levels for normalized avg ozone levels and normalized avg wind speeds are already increasing since January, but for AQI it lags behind and doesn't really increase until July. Ozone and AQI increase a good amount until September, then they both start to drop off and decrease until December. However starting July, is when wind temperatures start dropping rapidly and starts increasing late September. Although there is a lag in the AQI, the all three show a positive correlation until July, when wildfire season starts. After July, ozone and AQI are still positively correlated, but wind speed become negatively correlated with ozone and AQI. This makes sense since wildfire season will increase AQI and air pollutants such as ozone levels, but should decrease the wind speed due to thick atmosphere created by wildfires. The second visual we created to understand the relationship between ozone and AQI is by creating a heatmap for ozone. We tried creating a heatmap for windspeed but was unable to overlay two heatmaps ontop of one another. The windspeed heatmap also did not contain enough variation in locations and was just a few blobs that we think would not add much value. To create the ozone heatmap similar to what we did in 6a and 6b, we created a function that created a pivot table of the coordinate buckets and the median ozone level values. From what we can see from the ozone heatmap of California in September 2020, it is very similar to the AQI heat map of California in September 2020. Areas with high median AQI because of the wildfires such as LA and Fresno county have dark spots indicating high levels of ozone. This supports our idea that ozone level and AQI have a positive correlation. This makes sense as ground level ozone is a hazardous air pollutant that may be results of industrial production and wildfires. Due to the large amounts of California wildfires in Spetember 2020 (especially in LA and Fresno county) the ground level ozone levels will definitely be very high. Through our analysis and data visualizations, we can see clear correlation (whether that be positive or negative) between ozone level and wind speed with AQI especially during wildfire season. These correlations indicate that ozone level and windspeed may be good features to use in predicting AQI. Something we may want to look further into may be certain high-elevation locations and also their density. These can acquired through external datasets and may be good predictive features."
   ]
  },
  {
   "cell_type": "markdown",
   "id": "7bed937a",
   "metadata": {},
   "source": [
    "<!-- END QUESTION -->\n",
    "\n",
    "\n",
    "\n",
    "<br/><br/>\n",
    "\n",
    "---\n",
    "## Part 4: Guided Modeling\n",
    "\n",
    "For this part, we will be looking at some open-ended modeling approaches to answering the question of predicting AQI given a location and a date. \n",
    "\n",
    "### Question 8 - Interpolation\n",
    "\n",
    "For this part, we will be using a simple interpolation to find the missing grid values for AQI on the heatmap visualization that you produced in part 1. Simple linear interpolation just takes the locations' values and averages them to produce an estimate of the current location. Though this is not as predictive (we are not predicting based on features about the location itself), it will give you a sense of the task at hand for the remainder of the project. \n",
    "\n",
    "As a reminder, the heatmap produced after running the cell below is the one you produced for question 6b when creating a visualization for the AQI in California for the month of september. It produces white spaces where there exist `NaN` values in the pivot table. "
   ]
  },
  {
   "cell_type": "code",
   "execution_count": 31,
   "id": "61fe3c84",
   "metadata": {},
   "outputs": [
    {
     "data": {
      "image/png": "[encoded data removed]",
      "text/plain": [
       "<Figure size 1080x576 with 2 Axes>"
      ]
     },
     "metadata": {
      "needs_background": "light"
     },
     "output_type": "display_data"
    }
   ],
   "source": [
    "table_sep = epa_data_CA_merged[epa_data_CA_merged['Month'] == 9]\n",
    "heatmap_data = bucket_data(table_sep, np.median, 25)\n",
    "\n",
    "plt.figure(figsize=(15, 8))\n",
    "ax = sns.heatmap(heatmap_data, vmin=0, vmax=230, cmap = sns.cm.rocket_r)\n",
    "ax.invert_yaxis()\n",
    "plt.show()"
   ]
  },
  {
   "cell_type": "markdown",
   "id": "518c3a87",
   "metadata": {
    "deletable": false,
    "editable": false
   },
   "source": [
    "<br/>\n",
    "\n",
    "### Question 8a - Simple Linear Interpolation\n",
    "As previously mentioned, interpolation is a technique that is used to predict labels in a dataset by forming a model out of the data that is already labelled. In this case, we have a pivot table that we use to create a heatmap, but there contains many `NaN` values that we want to fill in. \n",
    "\n",
    "- Create the function `fill_bucket` that takes in the following parameters:\n",
    "    - `pivot_table`: the pivot table that we are providing. \n",
    "    - `lat_bucket`: the bucket number that the latitude is in, indexed by zero. ex. if there are 25 buckets, they are numbered $ 0, 2, \\dots 24 $, from lowest to highest value latitudes. \n",
    "    - `lon_bucket`: the bucket number that the longitude is in, indexed by zero. ex. if there are 25 buckets, they are numbered $ 0, 2, \\dots 24 $. from lowest to highest value longitudes.\n",
    "    \n",
    "- In the pivot table, every value has cells above (A cells), cells below (B cells), cells to the left (L cells), and cells to the right (R cells). We will say that a direction (R for example) is valid if and only if there exists a cell **anywhere** to its right that is not `NaN`. The closest such cell will be called the \"closest R cell\". The same goes for the rest of the directions. For the cases below, assuming that our current cell is called cell K. \n",
    "    - If cell K is not `NaN`, then simply return the AQI at that given cell.\n",
    "    - **Only** if there are **at least** three valid directional cells (ex. has A, B, and L valid but not R valid), we will call K *interpolable*. If K is *interpolable*, then interpolate K by assigning it an AQI value equal to the average of the closest cell AQIs in each of the valid directions. \n",
    "    - If K is *not interpolable*, then do not do anything and simply return `NaN`.\n",
    "- The return value of `fill_bucket` should be the the value assigned to K. **DO NOT** mutate the cell K in the pivot table yet.\n",
    "\n",
    "<!--\n",
    "BEGIN QUESTION\n",
    "name: q8a\n",
    "points: 6\n",
    "-->"
   ]
  },
  {
   "cell_type": "code",
   "execution_count": 32,
   "id": "dd43b812",
   "metadata": {},
   "outputs": [],
   "source": [
    "def fill_bucket(pivot_table, lat_bucket, lon_bucket):\n",
    "    if pd.notnull(pivot_table.iloc[lat_bucket,lon_bucket]):\n",
    "        return pivot_table.iloc[lat_bucket,lon_bucket]\n",
    "    else:\n",
    "        counter = 0\n",
    "        sides = 0\n",
    "        for a in range(1, pivot_table.shape[0] - lat_bucket):\n",
    "            if pd.notnull(pivot_table.iloc[lat_bucket + a,lon_bucket]):\n",
    "                counter += 1\n",
    "                sides += pivot_table.iloc[lat_bucket + a,lon_bucket]\n",
    "                break\n",
    "        for b in range(1, lat_bucket + 1):\n",
    "            if pd.notnull(pivot_table.iloc[lat_bucket - b,lon_bucket]):\n",
    "                counter += 1\n",
    "                sides += pivot_table.iloc[lat_bucket - b,lon_bucket]\n",
    "                break\n",
    "        for c in range(1, pivot_table.shape[1] - lon_bucket):\n",
    "            if pd.notnull(pivot_table.iloc[lat_bucket,lon_bucket + c]):\n",
    "                counter += 1\n",
    "                sides += pivot_table.iloc[lat_bucket,lon_bucket + c]\n",
    "                break\n",
    "        for d in range(1, lon_bucket + 1):\n",
    "            if pd.notnull(pivot_table.iloc[lat_bucket,lon_bucket - d]):\n",
    "                counter += 1\n",
    "                sides += pivot_table.iloc[lat_bucket,lon_bucket - d]\n",
    "                break\n",
    "        if counter >= 3:\n",
    "            return sides/counter\n",
    "        else:\n",
    "            return np.nan"
   ]
  },
  {
   "cell_type": "code",
   "execution_count": 33,
   "id": "62eab44a",
   "metadata": {
    "deletable": false,
    "editable": false
   },
   "outputs": [
    {
     "data": {
      "text/html": [
       "<p><strong><pre style='display: inline;'>q8a</pre></strong> passed!</p>"
      ],
      "text/plain": [
       "q8a results: All test cases passed!"
      ]
     },
     "execution_count": 33,
     "metadata": {},
     "output_type": "execute_result"
    }
   ],
   "source": [
    "grader.check(\"q8a\")"
   ]
  },
  {
   "cell_type": "markdown",
   "id": "1f24e9a7",
   "metadata": {
    "deletable": false,
    "editable": false
   },
   "source": [
    "<br/>\n",
    "\n",
    "### Question 8b - Create Filled Heatmap\n",
    "\n",
    "Now that you have created the `fill_bucket` function, we want to actually use it to fill in the values in `heatmap_data`. Complete the function `fill_all` that takes in the pivot table and fills in all the values and produces a pivot table with the updated values. **DO NOT** mutate the original pivot table. Instead, produce a new pivot table that that contains the filled values. \n",
    "\n",
    "One point to note is that when we update a cell here, we do not use any surrounding *interpolated* cells to do our interpolation on any given cell. As a result, we will always use the **original** pivot table to find surrounding cells and interpolate.\n",
    "\n",
    "<!--\n",
    "BEGIN QUESTION\n",
    "name: q8b\n",
    "points: 3\n",
    "-->"
   ]
  },
  {
   "cell_type": "code",
   "execution_count": 34,
   "id": "30dc5001",
   "metadata": {
    "tags": []
   },
   "outputs": [
    {
     "data": {
      "image/png": "[encoded data removed]",
      "text/plain": [
       "<Figure size 1080x576 with 2 Axes>"
      ]
     },
     "metadata": {
      "needs_background": "light"
     },
     "output_type": "display_data"
    }
   ],
   "source": [
    "def fill_all(pivot_table):\n",
    "    copy = pivot_table.copy()\n",
    "    for r in range(copy.shape[0]):\n",
    "        for c in range(copy.shape[1]):\n",
    "            copy.iloc[r, c] = fill_bucket(heatmap_data, r, c)\n",
    "    return copy\n",
    "\n",
    "filled_heatmap_data = fill_all(heatmap_data)\n",
    "\n",
    "plt.figure(figsize=(15, 8))\n",
    "ax = sns.heatmap(filled_heatmap_data, vmin=0, vmax=230, cmap = sns.cm.rocket_r)\n",
    "ax.invert_yaxis()\n",
    "plt.show()   \n"
   ]
  },
  {
   "cell_type": "code",
   "execution_count": 35,
   "id": "d94c73af",
   "metadata": {
    "deletable": false,
    "editable": false
   },
   "outputs": [
    {
     "data": {
      "text/html": [
       "<p><strong><pre style='display: inline;'>q8b</pre></strong> passed!</p>"
      ],
      "text/plain": [
       "q8b results: All test cases passed!"
      ]
     },
     "execution_count": 35,
     "metadata": {},
     "output_type": "execute_result"
    }
   ],
   "source": [
    "grader.check(\"q8b\")"
   ]
  },
  {
   "cell_type": "markdown",
   "id": "463b7e54",
   "metadata": {
    "deletable": false,
    "editable": false
   },
   "source": [
    "<!-- BEGIN QUESTION -->\n",
    "\n",
    "<br/>\n",
    "\n",
    "### Question 8c - Other Interpolation Ideas\n",
    "\n",
    "Instead of just interpolating in a simple fashion as we did above, suggest one other way to interpolate (that actually works so do not just say \"put the average of all cells in every `NaN` cell). For example, you can take into account of the distance of the surrounding cells, the number of cells you use, and more. \n",
    "\n",
    "<!--\n",
    "BEGIN QUESTION\n",
    "name: q8c\n",
    "points: 2\n",
    "manual: True\n",
    "-->"
   ]
  },
  {
   "cell_type": "markdown",
   "id": "102cfb47",
   "metadata": {},
   "source": [
    "Another way we can interpolate is by doing what we did above, but also to take into account the distance of the closest neighboring cell. For example, if Right is a valid direction, we will interpolate using the closest R cell, but we will also take into account how \"close\" this closest cell is by looking at the distance away from our current cell K. If the closest R cell is one cell away to the right of our current cell K, we will account for the AQI fully. However, if the closest R cell is instead 2 cells away, we will only take into account only 90% of the AQI value provided. In general, if the closest R cell is n cells away, we will take into account $(0.9)^{(n-1)}$ of the AQI value provided. We will then do this for all valid directions and interpolate by assigning K to the average the resulting AQI values for each direction. In summary, we can interpolate K by assigning it an AQI value equal to the average of the closest cell AQIs in each of the valid directions by also taking into account the distance away from current cell K."
   ]
  },
  {
   "cell_type": "markdown",
   "id": "256edc81",
   "metadata": {
    "deletable": false,
    "editable": false
   },
   "source": [
    "<!-- END QUESTION -->\n",
    "\n",
    "<!-- BEGIN QUESTION -->\n",
    "\n",
    "<br/>\n",
    "\n",
    "### Question 9 - Choosing your Loss Function\n",
    "\n",
    "Let us say that you are trying to define a loss function $L(x_{i}, y_{i})$ to use for model, where $x_{i}$ is the input and the $y_{i}$ is a qualitative variable that that model outputs, consisting of the following five groups: good, moderate, unhealthy for sensitive groups, unhealthy, very unhealthy, or hazardous. How would you design your loss function to evaluate your model?\n",
    "\n",
    "<!--\n",
    "BEGIN QUESTION\n",
    "name: q9\n",
    "manual: True\n",
    "points: 2\n",
    "-->"
   ]
  },
  {
   "cell_type": "markdown",
   "id": "06e863ad",
   "metadata": {},
   "source": [
    "A loss function we can use is to penalize wrong predictions from these 6 groups. We can look at the absolute distance squared of our predicted value and the actual value. We can do this by mapping {good : 1, moderate : 2, unhealthy sensitive groups : 3, unhealthy : 4, very unhealthy : 5, hazardous : 6}. If we predict an 'moderate' which is mapped to 2, and the actual is 'unhealthy' which is mapped to 4, our loss would be $(|2-4|)^2$. We will want to minimize this loss by looking the mean values across all data points. This is mean squared absolute distance error."
   ]
  },
  {
   "cell_type": "markdown",
   "id": "2ea97f3e",
   "metadata": {},
   "source": [
    "<!-- END QUESTION -->\n",
    "\n",
    "\n",
    "\n",
    "</br></br>\n",
    "\n",
    "### Question 10: Creating your own Model!\n",
    "\n",
    "Now that you have an idea of how to interpolate values, we will be using something more predictive. In this part, your final goal is to be creating a model and function that uses **at least four** features, with at least one of those four features being from an external dataset that you bring in and process yourself. Here are some rules on the model that you should follow: \n",
    "\n",
    "- Using your open-ended EDA analysis, use at least three features in the dataset provided to come up with some sort of predictive model for the AQI for remaining locations not predicted in the heatmap. You are **NOT** allowed to use any more than **one** of the particulate matter features for this model i.e. ozone or CO2 concentrations for example. \n",
    "    - The reason behind this is that AQI is directly based on these values, so there will be in some sense a near 100\\% correlation between AQI and these features under some transformations. \n",
    "- Use at least one feature that comes from an external dataset of choice. Some examples are geographical region (categorical), elevation (quantitative), or wilfire data. \n",
    "    - Reference question 2c of this project to see how to merge external data with the current EPA data.\n",
    "- Your model should, at the end, predict one of the following broad categories for the AQI: good, moderate, unhealthy for sensitive groups, unhealthy, very unhealthy, or hazardous. Note that this specification is different from `fill_bucket` in the sense that instead of returning a value, you will be returning a string for a category.\n",
    "    - As a result, you can either directly predict the category, or the AQI (ex. through regression) and then convert to the category. Category ranges for AQI can be found online.\n",
    "- The final model should be validated with some data that you hold out. You decide how to do this but there should be some model validation accuracy reported. You should be using the loss function that you designed in question 3 in order to do this.\n",
    "\n",
    "---\n",
    "\n",
    "#### Deliverables\n",
    "<br/>\n",
    "\n",
    "**`features`**: This should be a `pd.DataFrame` object that represents the design matrix that will be fed in as input to your model. Each row represents a data point and each column represents a feature. Essentially your $X$ matrix. \n",
    "\n",
    "**`targets`**: This should be a numpy array that where each value corresponds to the AQI value or AQI category for each of the data points in `features`. Essentially your $y$ vector. \n",
    "\n",
    "**`build_model`**: This function should have two parameters: `features` that will be used as input into your model as a `pd.DataFrame` object, and `targets` should be a numpy array of AQI values OR AQI categories. It should return a *function* or *object* that represents your model.\n",
    "\n",
    "**`predict`**: This function should have two parameters: `model`, the model that you build from the previous function `build_model`, and `features` that represent the design matrix for the test values that we want to predict. It should return the **AQI category** (not a value) that the model predicts for these inputs."
   ]
  },
  {
   "cell_type": "markdown",
   "id": "cc24c2fc",
   "metadata": {
    "deletable": false,
    "editable": false
   },
   "source": [
    "<!-- BEGIN QUESTION -->\n",
    "\n",
    "<br/>\n",
    "\n",
    "### Question 10a: Choose Features and Model\n",
    "\n",
    "First, decide on the features that you will be using for your model. How predictive do you think each of the features that you chose will be of the AQI category? Then, how will you choose to make your model (multiple regression, decision trees, etc.)?\n",
    "\n",
    "<!--\n",
    "BEGIN QUESTION\n",
    "name: q10a\n",
    "points: 2\n",
    "manual: True\n",
    "-->"
   ]
  },
  {
   "cell_type": "markdown",
   "id": "5a8c83ba",
   "metadata": {},
   "source": [
    "The 3 features that we will be using from the AQI dataset will be ozone levels, wind speed, and temperature. The external feature we will be using is AADT (annual average daily traffic) from the traffic dataset. We think ozone levels is very predictive of the AQI categories. We belive there is a very high correlation between particulate matter features such as ozone since AQI is directly based off these values. We will also be using wind speed as a feature because based off of the visualizations from their normalized values in the EDA above, we can see a negative correlation between wind speed and AQI which can be a predictive feature. The third feature we will be using from the AQI dataset is temperature. Temperature is a predictive feature since wildfires which cause high AQI levels would also shoot up the temperature of the specific location. The external feature we will be using is AADT from the traffic dataset which can be a good predictive feature. We hypothesize that places with high AQI levels during wildfire season usually means that location is experiencing a wildfire and AADT would be low due to everyone being evacuated. The model we are choosing to use is a decision tree since we are using multiple features to predict AQI category (categorical)."
   ]
  },
  {
   "cell_type": "markdown",
   "id": "ba5c84a3",
   "metadata": {
    "deletable": false,
    "editable": false
   },
   "source": [
    "<!-- END QUESTION -->\n",
    "\n",
    "<br/>\n",
    "\n",
    "### Question 10b: Build Features\n",
    "\n",
    "Create the `build_features` function as described at the beginning of this part. You should also do any cleaning or merging of internal or external datasets in this part. Make sure to read the specifications of the function very carefully. The autograder will provide some sanity checks on your output.\n",
    "\n",
    "<!--\n",
    "BEGIN QUESTION\n",
    "name: q10b\n",
    "points: 3\n",
    "-->"
   ]
  },
  {
   "cell_type": "code",
   "execution_count": 36,
   "id": "3c9390bc",
   "metadata": {},
   "outputs": [
    {
     "data": {
      "text/html": [
       "<div>\n",
       "<style scoped>\n",
       "    .dataframe tbody tr th:only-of-type {\n",
       "        vertical-align: middle;\n",
       "    }\n",
       "\n",
       "    .dataframe tbody tr th {\n",
       "        vertical-align: top;\n",
       "    }\n",
       "\n",
       "    .dataframe thead th {\n",
       "        text-align: right;\n",
       "    }\n",
       "</style>\n",
       "<table border=\"1\" class=\"dataframe\">\n",
       "  <thead>\n",
       "    <tr style=\"text-align: right;\">\n",
       "      <th></th>\n",
       "      <th>ozone</th>\n",
       "      <th>Wind</th>\n",
       "      <th>Temp</th>\n",
       "      <th>AADT</th>\n",
       "    </tr>\n",
       "  </thead>\n",
       "  <tbody>\n",
       "    <tr>\n",
       "      <th>0</th>\n",
       "      <td>0.027</td>\n",
       "      <td>4.4</td>\n",
       "      <td>58.8</td>\n",
       "      <td>15600</td>\n",
       "    </tr>\n",
       "    <tr>\n",
       "      <th>1</th>\n",
       "      <td>0.019</td>\n",
       "      <td>3.6</td>\n",
       "      <td>59.5</td>\n",
       "      <td>15600</td>\n",
       "    </tr>\n",
       "    <tr>\n",
       "      <th>2</th>\n",
       "      <td>0.020</td>\n",
       "      <td>3.9</td>\n",
       "      <td>61.5</td>\n",
       "      <td>15600</td>\n",
       "    </tr>\n",
       "    <tr>\n",
       "      <th>3</th>\n",
       "      <td>0.025</td>\n",
       "      <td>3.1</td>\n",
       "      <td>49.5</td>\n",
       "      <td>15600</td>\n",
       "    </tr>\n",
       "    <tr>\n",
       "      <th>4</th>\n",
       "      <td>0.027</td>\n",
       "      <td>2.7</td>\n",
       "      <td>46.9</td>\n",
       "      <td>15600</td>\n",
       "    </tr>\n",
       "  </tbody>\n",
       "</table>\n",
       "</div>"
      ],
      "text/plain": [
       "   ozone  Wind  Temp   AADT\n",
       "0  0.027   4.4  58.8  15600\n",
       "1  0.019   3.6  59.5  15600\n",
       "2  0.020   3.9  61.5  15600\n",
       "3  0.025   3.1  49.5  15600\n",
       "4  0.027   2.7  46.9  15600"
      ]
     },
     "execution_count": 36,
     "metadata": {},
     "output_type": "execute_result"
    }
   ],
   "source": [
    "categories = [\"good\", \"moderate\", \"unhealthy sensitive groups\", \"unhealthy\", \"very unhealthy\", \"hazardous\"]\n",
    "\n",
    "def bin(array):\n",
    "    predict_list = []\n",
    "    for i in array:\n",
    "        if (0 <= i < 51):\n",
    "            predict_list.append(categories[0])\n",
    "        elif (51 <= i < 101):\n",
    "            predict_list.append(categories[1])\n",
    "        elif (101 <= i < 151):\n",
    "            predict_list.append(categories[2])\n",
    "        elif (151 <= i < 201):\n",
    "            predict_list.append(categories[3])\n",
    "        elif (201 <= i < 301):\n",
    "            predict_list.append(categories[4])\n",
    "        elif (301 <= i):\n",
    "            predict_list.append(categories[5])\n",
    "    return np.array(predict_list)\n",
    "\n",
    "epa_data_CA_merged_ozone_wind_temp_copy = epa_data_CA_merged_ozone_wind_temp.copy()\n",
    "epa_data_CA_with_ext = gpd.GeoDataFrame(epa_data_CA_merged_ozone_wind_temp_copy, geometry=gpd.points_from_xy(epa_data_CA_merged_ozone_wind_temp['Longitude'], epa_data_CA_merged_ozone_wind_temp['Latitude']))\n",
    "gpd_traffic = gpd.GeoDataFrame(traffic_data_cleaned, geometry=gpd.points_from_xy(traffic_data_cleaned['Longitude'], traffic_data_cleaned['Latitude']))\n",
    "good_merged = epa_data_CA_with_ext.sjoin_nearest(gpd_traffic, how='inner').rename(columns={'Latitude_left':'Latitude','Longitude_left':'Longitude','Latitude_right':'Traffic Lat','Longitude_right':'Traffic Long'})\n",
    "good_merged = good_merged[['State Name', 'County Name', 'Defining Site', 'Site Num', 'Month', 'Day', 'Latitude', 'Longitude', 'ozone', 'Wind', 'Temp', 'AADT', 'AQI']]\n",
    "good_merged['ozone norm'] = (good_merged['ozone'] - good_merged['ozone'].min())/(good_merged['ozone'].max() - good_merged['ozone'].min())\n",
    "good_merged['Wind norm'] = (good_merged['Wind'] - good_merged['Wind'].min())/(good_merged['Wind'].max() - good_merged['ozone'].min())\n",
    "good_merged['Temp norm'] = (good_merged['Temp'] - good_merged['Temp'].min())/(good_merged['Temp'].max() - good_merged['Temp'].min())\n",
    "good_merged['AADT norm'] = (good_merged['AADT'] - good_merged['AADT'].min())/(good_merged['AADT'].max() - good_merged['AADT'].min())\n",
    "good_merged['AQI bins'] = bin(np.array(good_merged['AQI']))\n",
    "\n",
    "features = good_merged[['ozone','Wind', 'Temp', 'AADT']]\n",
    "targets = np.array(good_merged['AQI bins'])\n",
    "\n",
    "features.head()"
   ]
  },
  {
   "cell_type": "code",
   "execution_count": 37,
   "id": "f5df3e40",
   "metadata": {
    "deletable": false,
    "editable": false
   },
   "outputs": [
    {
     "data": {
      "text/html": [
       "<p><strong><pre style='display: inline;'>q10b</pre></strong> passed!</p>"
      ],
      "text/plain": [
       "q10b results: All test cases passed!"
      ]
     },
     "execution_count": 37,
     "metadata": {},
     "output_type": "execute_result"
    }
   ],
   "source": [
    "grader.check(\"q10b\")"
   ]
  },
  {
   "cell_type": "markdown",
   "id": "26e15c8d",
   "metadata": {
    "deletable": false,
    "editable": false
   },
   "source": [
    "<br/>\n",
    "\n",
    "### Question 10c: Build Your Model!\n",
    "\n",
    "Create the `build_model` function as described at the beginning of this part. Make sure to read the specifications of the function very carefully. The autograder will provide some sanity checks on your output.\n",
    "\n",
    "<!--\n",
    "BEGIN QUESTION\n",
    "name: q10c\n",
    "points: 8\n",
    "-->"
   ]
  },
  {
   "cell_type": "code",
   "execution_count": 38,
   "id": "0436e7a7",
   "metadata": {},
   "outputs": [],
   "source": [
    "from scipy.optimize import minimize\n",
    "from sklearn.tree import DecisionTreeClassifier\n",
    "\n",
    "def build_model(feature, target):\n",
    "    decision_tree_model = DecisionTreeClassifier()\n",
    "    return decision_tree_model.fit(feature, target)"
   ]
  },
  {
   "cell_type": "code",
   "execution_count": 39,
   "id": "4e7f4165",
   "metadata": {
    "deletable": false,
    "editable": false
   },
   "outputs": [
    {
     "data": {
      "text/html": [
       "<p><strong><pre style='display: inline;'>q10c</pre></strong> passed!</p>"
      ],
      "text/plain": [
       "q10c results: All test cases passed!"
      ]
     },
     "execution_count": 39,
     "metadata": {},
     "output_type": "execute_result"
    }
   ],
   "source": [
    "grader.check(\"q10c\")"
   ]
  },
  {
   "cell_type": "markdown",
   "id": "f38ca710",
   "metadata": {
    "deletable": false,
    "editable": false
   },
   "source": [
    "<br/>\n",
    "\n",
    "### Question 10d: Predict Points\n",
    "\n",
    "Create the `predict` function as described at the beginning of this part. Make sure to read the specifications of the function very carefully. The autograder will provide some sanity checks on your output.\n",
    "\n",
    "<!--\n",
    "BEGIN QUESTION\n",
    "name: q10d\n",
    "points: 4\n",
    "-->"
   ]
  },
  {
   "cell_type": "code",
   "execution_count": 40,
   "id": "1505232f",
   "metadata": {},
   "outputs": [],
   "source": [
    "categories = [\"good\", \"moderate\", \"unhealthy sensitive groups\", \"unhealthy\", \"very unhealthy\", \"hazardous\"]\n",
    "\n",
    "def predict(model, features):\n",
    "    return model.predict(features)"
   ]
  },
  {
   "cell_type": "code",
   "execution_count": 41,
   "id": "c8f75bd7",
   "metadata": {
    "deletable": false,
    "editable": false
   },
   "outputs": [
    {
     "data": {
      "text/html": [
       "<p><strong><pre style='display: inline;'>q10d</pre></strong> passed!</p>"
      ],
      "text/plain": [
       "q10d results: All test cases passed!"
      ]
     },
     "execution_count": 41,
     "metadata": {},
     "output_type": "execute_result"
    }
   ],
   "source": [
    "grader.check(\"q10d\")"
   ]
  },
  {
   "cell_type": "markdown",
   "id": "95796ead",
   "metadata": {
    "deletable": false,
    "editable": false
   },
   "source": [
    "<br/>\n",
    "\n",
    "### Question 10e: Model Validation and Performance\n",
    "\n",
    "Now that you have finished making your model, we want to see how well it performs on our data. In this question, use the following cell to split your data into training and validation sets. You should partition 70\\% of your data to be used as your training set, and the remaining to be used as your validation set. \n",
    "\n",
    "Assign `binary_error` to be the **fraction of inputs on your validation set that the your `predict` function classifies incorrectly.** Note that this is a binary loss in some sense as it assigns a loss of 1 to those points predicted incorrectly, and a loss of 0 to those points predicted correctly.\n",
    "\n",
    "Assign `cv_error` to be the the error on the validation set produced by the loss function $ L $ that you designed in question 3.\n",
    "\n",
    "*Hint*: you can use `train_test_split` from `sklearn`.\n",
    "\n",
    "<!--\n",
    "BEGIN QUESTION\n",
    "name: q10e\n",
    "points: 8\n",
    "-->"
   ]
  },
  {
   "cell_type": "code",
   "execution_count": 46,
   "id": "9b2a0333",
   "metadata": {},
   "outputs": [
    {
     "data": {
      "text/plain": [
       "(0.1932833154698107, 0.34798142193640585)"
      ]
     },
     "execution_count": 46,
     "metadata": {},
     "output_type": "execute_result"
    }
   ],
   "source": [
    "from sklearn.model_selection import train_test_split\n",
    "X_train, X_val, y_train, y_val = train_test_split(features, targets, train_size = 0.7, random_state=40)\n",
    "\n",
    "val_predict = predict(build_model(X_train, y_train), X_val)\n",
    "mapping = {'good' : 1, 'moderate' : 2, 'unhealthy sensitive groups' : 3, 'unhealthy' : 4, 'very unhealthy' : 5, 'hazardous' : 6}\n",
    "\n",
    "converted_predictions = np.array([mapping[val] for val in val_predict])\n",
    "converted_actual = np.array([mapping[val] for val in y_val])\n",
    "\n",
    "binary_error = 1 - np.sum(val_predict == y_val)/len(X_val) \n",
    "cv_error = np.mean((np.abs(converted_predictions - converted_actual))**2)\n",
    "\n",
    "binary_error, cv_error"
   ]
  },
  {
   "cell_type": "code",
   "execution_count": 47,
   "id": "60db0aa0",
   "metadata": {
    "deletable": false,
    "editable": false
   },
   "outputs": [
    {
     "data": {
      "text/html": [
       "<p><strong><pre style='display: inline;'>q10e</pre></strong> passed!</p>"
      ],
      "text/plain": [
       "q10e results: All test cases passed!"
      ]
     },
     "execution_count": 47,
     "metadata": {},
     "output_type": "execute_result"
    }
   ],
   "source": [
    "grader.check(\"q10e\")"
   ]
  },
  {
   "cell_type": "markdown",
   "id": "7c8b7e39",
   "metadata": {
    "tags": []
   },
   "source": [
    "<br/><br/>\n",
    "\n",
    "---\n",
    "## Part 5: Open-Ended Modeling\n",
    "\n",
    "Now that you have had some experience with creating the a model from scratch using the existing data, you are now ready to explore other questions, such as the ones in your design document. In this section, you will use the tools that we developed in the previous parts to answer the hypothesis of your choice! Note that breaking your model-building and analysis process into modularized functions as you did above will make your code more interpretable and less error-prone. "
   ]
  },
  {
   "cell_type": "markdown",
   "id": "303c6038",
   "metadata": {
    "deletable": false,
    "editable": false
   },
   "source": [
    "<!-- BEGIN QUESTION -->\n",
    "\n",
    "### Question 11a\n",
    "\n",
    "Train a baseline model of your choice using any supervised learning approach we have studied to answer your hypothesis and predict something related to AQI; you are not limited to a linear model. However, you may use a maximum of **three features** for this part. After training, evaluate it on some validation data that you hold out yourself. \n",
    "\n",
    "<!--\n",
    "BEGIN QUESTION\n",
    "name: q11a\n",
    "points: 5\n",
    "manual: True\n",
    "-->"
   ]
  },
  {
   "cell_type": "code",
   "execution_count": 48,
   "id": "62b08e29",
   "metadata": {},
   "outputs": [
    {
     "data": {
      "text/html": [
       "<div>\n",
       "<style scoped>\n",
       "    .dataframe tbody tr th:only-of-type {\n",
       "        vertical-align: middle;\n",
       "    }\n",
       "\n",
       "    .dataframe tbody tr th {\n",
       "        vertical-align: top;\n",
       "    }\n",
       "\n",
       "    .dataframe thead th {\n",
       "        text-align: right;\n",
       "    }\n",
       "</style>\n",
       "<table border=\"1\" class=\"dataframe\">\n",
       "  <thead>\n",
       "    <tr style=\"text-align: right;\">\n",
       "      <th></th>\n",
       "      <th>State Name</th>\n",
       "      <th>County Name</th>\n",
       "      <th>Defining Site</th>\n",
       "      <th>Site Num</th>\n",
       "      <th>Month</th>\n",
       "      <th>Day</th>\n",
       "      <th>Latitude</th>\n",
       "      <th>Longitude</th>\n",
       "      <th>ozone</th>\n",
       "      <th>Wind</th>\n",
       "      <th>...</th>\n",
       "      <th>ozone norm</th>\n",
       "      <th>Wind norm</th>\n",
       "      <th>Temp norm</th>\n",
       "      <th>AADT norm</th>\n",
       "      <th>AQI bins</th>\n",
       "      <th>County Code</th>\n",
       "      <th>Site Number</th>\n",
       "      <th>Elevation</th>\n",
       "      <th>Land Use</th>\n",
       "      <th>Land Use Num</th>\n",
       "    </tr>\n",
       "  </thead>\n",
       "  <tbody>\n",
       "    <tr>\n",
       "      <th>0</th>\n",
       "      <td>California</td>\n",
       "      <td>Amador</td>\n",
       "      <td>06-005-0002</td>\n",
       "      <td>2</td>\n",
       "      <td>1</td>\n",
       "      <td>1</td>\n",
       "      <td>38.342606</td>\n",
       "      <td>-120.764426</td>\n",
       "      <td>0.027</td>\n",
       "      <td>4.4</td>\n",
       "      <td>...</td>\n",
       "      <td>0.194245</td>\n",
       "      <td>0.085648</td>\n",
       "      <td>0.345263</td>\n",
       "      <td>0.021981</td>\n",
       "      <td>good</td>\n",
       "      <td>5</td>\n",
       "      <td>2</td>\n",
       "      <td>377.0</td>\n",
       "      <td>COMMERCIAL</td>\n",
       "      <td>0</td>\n",
       "    </tr>\n",
       "    <tr>\n",
       "      <th>1</th>\n",
       "      <td>California</td>\n",
       "      <td>Amador</td>\n",
       "      <td>06-005-0002</td>\n",
       "      <td>2</td>\n",
       "      <td>1</td>\n",
       "      <td>2</td>\n",
       "      <td>38.342606</td>\n",
       "      <td>-120.764426</td>\n",
       "      <td>0.019</td>\n",
       "      <td>3.6</td>\n",
       "      <td>...</td>\n",
       "      <td>0.136691</td>\n",
       "      <td>0.067130</td>\n",
       "      <td>0.352632</td>\n",
       "      <td>0.021981</td>\n",
       "      <td>good</td>\n",
       "      <td>5</td>\n",
       "      <td>2</td>\n",
       "      <td>377.0</td>\n",
       "      <td>COMMERCIAL</td>\n",
       "      <td>0</td>\n",
       "    </tr>\n",
       "    <tr>\n",
       "      <th>2</th>\n",
       "      <td>California</td>\n",
       "      <td>Amador</td>\n",
       "      <td>06-005-0002</td>\n",
       "      <td>2</td>\n",
       "      <td>1</td>\n",
       "      <td>3</td>\n",
       "      <td>38.342606</td>\n",
       "      <td>-120.764426</td>\n",
       "      <td>0.020</td>\n",
       "      <td>3.9</td>\n",
       "      <td>...</td>\n",
       "      <td>0.143885</td>\n",
       "      <td>0.074074</td>\n",
       "      <td>0.373684</td>\n",
       "      <td>0.021981</td>\n",
       "      <td>good</td>\n",
       "      <td>5</td>\n",
       "      <td>2</td>\n",
       "      <td>377.0</td>\n",
       "      <td>COMMERCIAL</td>\n",
       "      <td>0</td>\n",
       "    </tr>\n",
       "    <tr>\n",
       "      <th>3</th>\n",
       "      <td>California</td>\n",
       "      <td>Amador</td>\n",
       "      <td>06-005-0002</td>\n",
       "      <td>2</td>\n",
       "      <td>1</td>\n",
       "      <td>8</td>\n",
       "      <td>38.342606</td>\n",
       "      <td>-120.764426</td>\n",
       "      <td>0.025</td>\n",
       "      <td>3.1</td>\n",
       "      <td>...</td>\n",
       "      <td>0.179856</td>\n",
       "      <td>0.055556</td>\n",
       "      <td>0.247368</td>\n",
       "      <td>0.021981</td>\n",
       "      <td>good</td>\n",
       "      <td>5</td>\n",
       "      <td>2</td>\n",
       "      <td>377.0</td>\n",
       "      <td>COMMERCIAL</td>\n",
       "      <td>0</td>\n",
       "    </tr>\n",
       "    <tr>\n",
       "      <th>4</th>\n",
       "      <td>California</td>\n",
       "      <td>Amador</td>\n",
       "      <td>06-005-0002</td>\n",
       "      <td>2</td>\n",
       "      <td>1</td>\n",
       "      <td>9</td>\n",
       "      <td>38.342606</td>\n",
       "      <td>-120.764426</td>\n",
       "      <td>0.027</td>\n",
       "      <td>2.7</td>\n",
       "      <td>...</td>\n",
       "      <td>0.194245</td>\n",
       "      <td>0.046296</td>\n",
       "      <td>0.220000</td>\n",
       "      <td>0.021981</td>\n",
       "      <td>good</td>\n",
       "      <td>5</td>\n",
       "      <td>2</td>\n",
       "      <td>377.0</td>\n",
       "      <td>COMMERCIAL</td>\n",
       "      <td>0</td>\n",
       "    </tr>\n",
       "  </tbody>\n",
       "</table>\n",
       "<p>5 rows × 23 columns</p>\n",
       "</div>"
      ],
      "text/plain": [
       "   State Name County Name Defining Site  Site Num  Month  Day   Latitude  \\\n",
       "0  California      Amador   06-005-0002         2      1    1  38.342606   \n",
       "1  California      Amador   06-005-0002         2      1    2  38.342606   \n",
       "2  California      Amador   06-005-0002         2      1    3  38.342606   \n",
       "3  California      Amador   06-005-0002         2      1    8  38.342606   \n",
       "4  California      Amador   06-005-0002         2      1    9  38.342606   \n",
       "\n",
       "    Longitude  ozone  Wind  ...  ozone norm  Wind norm  Temp norm  AADT norm  \\\n",
       "0 -120.764426  0.027   4.4  ...    0.194245   0.085648   0.345263   0.021981   \n",
       "1 -120.764426  0.019   3.6  ...    0.136691   0.067130   0.352632   0.021981   \n",
       "2 -120.764426  0.020   3.9  ...    0.143885   0.074074   0.373684   0.021981   \n",
       "3 -120.764426  0.025   3.1  ...    0.179856   0.055556   0.247368   0.021981   \n",
       "4 -120.764426  0.027   2.7  ...    0.194245   0.046296   0.220000   0.021981   \n",
       "\n",
       "   AQI bins  County Code  Site Number Elevation    Land Use  Land Use Num  \n",
       "0      good            5            2     377.0  COMMERCIAL             0  \n",
       "1      good            5            2     377.0  COMMERCIAL             0  \n",
       "2      good            5            2     377.0  COMMERCIAL             0  \n",
       "3      good            5            2     377.0  COMMERCIAL             0  \n",
       "4      good            5            2     377.0  COMMERCIAL             0  \n",
       "\n",
       "[5 rows x 23 columns]"
      ]
     },
     "execution_count": 48,
     "metadata": {},
     "output_type": "execute_result"
    }
   ],
   "source": [
    "# Using our previous merged dataframe in Q10 which includes external Traffic dataset, merge with sites dataset for elevation and land use. \n",
    "\n",
    "ca_sites = epa_data.get('aqs_sites').query('`State Name` == \"California\"')\n",
    "ca_sites = ca_sites[['County Code','State Name', 'County Name', 'Site Number', 'Elevation', 'Land Use']]\n",
    "internal_merged = good_merged.merge(ca_sites, how='inner', left_on=['State Name', 'County Name', 'Site Num'], right_on=['State Name', 'County Name', 'Site Number'])\n",
    "land_use_map = {internal_merged['Land Use'].unique()[i]: i for i in range(len(internal_merged['Land Use'].unique()))}\n",
    "\n",
    "internal_merged['Land Use Num'] = [land_use_map[val] for val in internal_merged['Land Use']]\n",
    "internal_merged.head()"
   ]
  },
  {
   "cell_type": "code",
   "execution_count": 49,
   "id": "9e650a87-c3e1-481a-b3f1-069e352f9341",
   "metadata": {},
   "outputs": [
    {
     "data": {
      "text/html": [
       "<div>\n",
       "<style scoped>\n",
       "    .dataframe tbody tr th:only-of-type {\n",
       "        vertical-align: middle;\n",
       "    }\n",
       "\n",
       "    .dataframe tbody tr th {\n",
       "        vertical-align: top;\n",
       "    }\n",
       "\n",
       "    .dataframe thead th {\n",
       "        text-align: right;\n",
       "    }\n",
       "</style>\n",
       "<table border=\"1\" class=\"dataframe\">\n",
       "  <thead>\n",
       "    <tr style=\"text-align: right;\">\n",
       "      <th></th>\n",
       "      <th>Temp</th>\n",
       "      <th>Elevation</th>\n",
       "      <th>County Code</th>\n",
       "    </tr>\n",
       "  </thead>\n",
       "  <tbody>\n",
       "    <tr>\n",
       "      <th>0</th>\n",
       "      <td>58.8</td>\n",
       "      <td>377.0</td>\n",
       "      <td>5</td>\n",
       "    </tr>\n",
       "    <tr>\n",
       "      <th>1</th>\n",
       "      <td>59.5</td>\n",
       "      <td>377.0</td>\n",
       "      <td>5</td>\n",
       "    </tr>\n",
       "    <tr>\n",
       "      <th>2</th>\n",
       "      <td>61.5</td>\n",
       "      <td>377.0</td>\n",
       "      <td>5</td>\n",
       "    </tr>\n",
       "    <tr>\n",
       "      <th>3</th>\n",
       "      <td>49.5</td>\n",
       "      <td>377.0</td>\n",
       "      <td>5</td>\n",
       "    </tr>\n",
       "    <tr>\n",
       "      <th>4</th>\n",
       "      <td>46.9</td>\n",
       "      <td>377.0</td>\n",
       "      <td>5</td>\n",
       "    </tr>\n",
       "  </tbody>\n",
       "</table>\n",
       "</div>"
      ],
      "text/plain": [
       "   Temp  Elevation  County Code\n",
       "0  58.8      377.0            5\n",
       "1  59.5      377.0            5\n",
       "2  61.5      377.0            5\n",
       "3  49.5      377.0            5\n",
       "4  46.9      377.0            5"
      ]
     },
     "execution_count": 49,
     "metadata": {},
     "output_type": "execute_result"
    }
   ],
   "source": [
    "# Initialize features and targets for baseline model.\n",
    "\n",
    "base_features = internal_merged[['Temp','Elevation','County Code']]\n",
    "base_targets = np.array(internal_merged['AQI bins'])\n",
    "\n",
    "base_features.head()"
   ]
  },
  {
   "cell_type": "code",
   "execution_count": 50,
   "id": "7f2a4690-cf82-48fa-a066-205efd43f6c6",
   "metadata": {},
   "outputs": [],
   "source": [
    "# Build a random forest model using sklearn.\n",
    "\n",
    "from pyspark.ml.classification import RandomForestClassifier\n",
    "\n",
    "def build_model_forest(feature, target):\n",
    "    random_forest_model = RandomForestClassifier()\n",
    "    return random_forest_model.fit(feature, target)"
   ]
  },
  {
   "cell_type": "code",
   "execution_count": 51,
   "id": "f63d38e6-798f-4d52-832e-6f36b31ef5e9",
   "metadata": {},
   "outputs": [],
   "source": [
    "# Creating a predict function for our model.\n",
    "\n",
    "def predict_forest(model, features):\n",
    "    return model.predict(features)"
   ]
  },
  {
   "cell_type": "code",
   "execution_count": 52,
   "id": "4d424722-7c35-4aa0-b9ae-bb219dc4383b",
   "metadata": {},
   "outputs": [
    {
     "data": {
      "text/plain": [
       "(0.3576277241872097, 0.624151482672383)"
      ]
     },
     "execution_count": 52,
     "metadata": {},
     "output_type": "execute_result"
    }
   ],
   "source": [
    "# Split our data into training and validation then find binary error and cv error of baseline model.\n",
    "\n",
    "X_train_base, X_val_base, y_train_base, y_val_base = train_test_split(base_features, base_targets, train_size = 0.7, random_state=100)\n",
    "\n",
    "val_predict_base = predict_forest(build_model_forest(X_train_base, y_train_base), X_val_base)\n",
    "mapping_base = {'good' : 1, 'moderate' : 2, 'unhealthy sensitive groups' : 3, 'unhealthy' : 4, 'very unhealthy' : 5, 'hazardous' : 6}\n",
    "\n",
    "converted_predictions_base = np.array([mapping_base[val] for val in val_predict_base])\n",
    "converted_actual_base = np.array([mapping_base[val] for val in y_val_base])\n",
    "\n",
    "binary_error_base = 1 - np.sum(val_predict_base == y_val_base)/len(X_val_base) \n",
    "cv_error_base = np.mean((np.abs(converted_predictions_base - converted_actual_base))**2)\n",
    "\n",
    "binary_error_base , cv_error_base"
   ]
  },
  {
   "cell_type": "markdown",
   "id": "f2558166",
   "metadata": {
    "deletable": false,
    "editable": false
   },
   "source": [
    "<!-- END QUESTION -->\n",
    "\n",
    "<!-- BEGIN QUESTION -->\n",
    "\n",
    "### Question 11b\n",
    "\n",
    "Explain and summarize the model that you used. In your summary, make sure to include the model description, the inputs, the outputs, as well as the cross-validation error. Additionally, talk a little bit about what you would change to your baseline model to improve it. The expected length of your summary should be 8-12 sentences. \n",
    "\n",
    "<!--\n",
    "BEGIN QUESTION\n",
    "name: q11b\n",
    "points: 2\n",
    "manual: True\n",
    "-->"
   ]
  },
  {
   "cell_type": "markdown",
   "id": "82cf47b9",
   "metadata": {},
   "source": [
    "Although most high-elevation forests in California have not been subjected to fire suppression, human activities, and because trees at these high elevations are in wetter forests, higher-elevation forests are more prone to wildfires due to the increased effects global warming (measured with particulate matter concentrations such as ozone). We hypothesize there is a positive correlation between elevation and AQI levels in California due to the effects of global warming and thus higher threat of wildfires. Thus, features relating to elevation and wildfires such as: general location (county and site), exact location (latitude and longitude), day and month, elevation, ozone level, wind speed, temperature, wildfire data (avg acres burned), land use, AADT, and county population density can all be good predictive features of AQI levels/categories.\n",
    "\n",
    "Our baseline model will use just three features relating to elevation that can affect AQI. These three features are elevation, temperature, and County Code. These three baseline features were chosen because it serves as good foundation relating to our hypothesis. \n",
    "\n",
    "Our baseline model will be a Random Forest Classifier because we are using mulitple features to predict AQI categories (categorical) and we want to avoid overfitting. The inputs are 'features' which are in the form of a DataFrame and represents our 𝑋  matrix and 'targets' a numpy array that corresponds to the AQI category for each of the data points in features and is essentially our  𝑦  vector. After predicting with this baseline model, we got a binary error of around 0.36. Using the loss function we created in question 10 which is essentailly mean squared absolute distance error, the cross-validation error that we got using this loss function on the validation set is around 0.6.\n",
    "\n",
    "To improve our model, we can include additional features to better pinpoint certain elevations to better support our hypothesis. To do this, we will use additional features from our AQI dataset and external datasets such as the Traffic dataset and California WildFires dataset that have correlation to AQI levels. To implement new qualitative features into our random forest classifier, we will map numerical values to each qualitative variable. To see if our improved model has improved in accuracy, we will see if the binary error decreased. "
   ]
  },
  {
   "cell_type": "markdown",
   "id": "6d4b2852",
   "metadata": {
    "deletable": false,
    "editable": false
   },
   "source": [
    "<!-- END QUESTION -->\n",
    "\n",
    "<!-- BEGIN QUESTION -->\n",
    "\n",
    "### Question 11c\n",
    "\n",
    "Improve your model from part 11a based on the improvements that you suggested in part 11b. This could be the addition of more features, performing additional transformations on your features, increasing/decreasing the complexity of the model itself, or really anything else. You have no limitation on the number of features you can use, but you are required to use at least **one external dataset** that you process and merge in yourself. \n",
    "\n",
    "<!--\n",
    "BEGIN QUESTION\n",
    "name: q11c\n",
    "points: 8\n",
    "manual: True\n",
    "-->"
   ]
  },
  {
   "cell_type": "code",
   "execution_count": 53,
   "id": "60a5bcb0",
   "metadata": {},
   "outputs": [
    {
     "data": {
      "text/html": [
       "<div>\n",
       "<style scoped>\n",
       "    .dataframe tbody tr th:only-of-type {\n",
       "        vertical-align: middle;\n",
       "    }\n",
       "\n",
       "    .dataframe tbody tr th {\n",
       "        vertical-align: top;\n",
       "    }\n",
       "\n",
       "    .dataframe thead th {\n",
       "        text-align: right;\n",
       "    }\n",
       "</style>\n",
       "<table border=\"1\" class=\"dataframe\">\n",
       "  <thead>\n",
       "    <tr style=\"text-align: right;\">\n",
       "      <th></th>\n",
       "      <th>County Name</th>\n",
       "      <th>Population Density (ppl per sq km)</th>\n",
       "    </tr>\n",
       "  </thead>\n",
       "  <tbody>\n",
       "    <tr>\n",
       "      <th>186</th>\n",
       "      <td>Alameda</td>\n",
       "      <td>860.757075</td>\n",
       "    </tr>\n",
       "    <tr>\n",
       "      <th>187</th>\n",
       "      <td>Alpine</td>\n",
       "      <td>0.599281</td>\n",
       "    </tr>\n",
       "    <tr>\n",
       "      <th>188</th>\n",
       "      <td>Amador</td>\n",
       "      <td>24.565345</td>\n",
       "    </tr>\n",
       "    <tr>\n",
       "      <th>189</th>\n",
       "      <td>Butte</td>\n",
       "      <td>53.575159</td>\n",
       "    </tr>\n",
       "    <tr>\n",
       "      <th>190</th>\n",
       "      <td>Calaveras</td>\n",
       "      <td>17.122606</td>\n",
       "    </tr>\n",
       "  </tbody>\n",
       "</table>\n",
       "</div>"
      ],
      "text/plain": [
       "    County Name  Population Density (ppl per sq km)\n",
       "186     Alameda                          860.757075\n",
       "187      Alpine                            0.599281\n",
       "188      Amador                           24.565345\n",
       "189       Butte                           53.575159\n",
       "190   Calaveras                           17.122606"
      ]
     },
     "execution_count": 53,
     "metadata": {},
     "output_type": "execute_result"
    }
   ],
   "source": [
    "# External Dataset 1: Traffic Dataset which was already merged in previous parts\n",
    "\n",
    "# External Dataset 2: Annual County Population Density in California 2020\n",
    "# Cite: https://covid19.census.gov/datasets/USCensus::average-household-size-and-population-density-county/explore?showTable=true\n",
    "\n",
    "pop_den = pd.read_csv('data/Average_Household_Size_and_Population_Density_-_County.csv')\n",
    "pop_den_ca = pop_den.query('State == \"California\"')\n",
    "pop_den_ca['NAME'] = pop_den_ca['NAME'].str.split(' County').str[0]\n",
    "pop_den_ca = pop_den_ca.rename(columns={'NAME':'County Name', 'B01001_calc_PopDensity': 'Population Density (ppl per sq km)'})\n",
    "pop_den_ca = pop_den_ca[['County Name', 'Population Density (ppl per sq km)']]\n",
    "pop_den_ca.head()"
   ]
  },
  {
   "cell_type": "code",
   "execution_count": 54,
   "id": "121508b6-8e4a-46fd-9e2b-e987e639a7f1",
   "metadata": {},
   "outputs": [
    {
     "data": {
      "text/html": [
       "<div>\n",
       "<style scoped>\n",
       "    .dataframe tbody tr th:only-of-type {\n",
       "        vertical-align: middle;\n",
       "    }\n",
       "\n",
       "    .dataframe tbody tr th {\n",
       "        vertical-align: top;\n",
       "    }\n",
       "\n",
       "    .dataframe thead th {\n",
       "        text-align: right;\n",
       "    }\n",
       "</style>\n",
       "<table border=\"1\" class=\"dataframe\">\n",
       "  <thead>\n",
       "    <tr style=\"text-align: right;\">\n",
       "      <th></th>\n",
       "      <th>County Name</th>\n",
       "      <th>Avg Acres Burned</th>\n",
       "    </tr>\n",
       "  </thead>\n",
       "  <tbody>\n",
       "    <tr>\n",
       "      <th>0</th>\n",
       "      <td>Alameda</td>\n",
       "      <td>199.593750</td>\n",
       "    </tr>\n",
       "    <tr>\n",
       "      <th>1</th>\n",
       "      <td>Alpine</td>\n",
       "      <td>0.000000</td>\n",
       "    </tr>\n",
       "    <tr>\n",
       "      <th>2</th>\n",
       "      <td>Amador</td>\n",
       "      <td>483.461538</td>\n",
       "    </tr>\n",
       "    <tr>\n",
       "      <th>3</th>\n",
       "      <td>Butte</td>\n",
       "      <td>2889.424242</td>\n",
       "    </tr>\n",
       "    <tr>\n",
       "      <th>4</th>\n",
       "      <td>Calaveras</td>\n",
       "      <td>120.363636</td>\n",
       "    </tr>\n",
       "  </tbody>\n",
       "</table>\n",
       "</div>"
      ],
      "text/plain": [
       "  County Name  Avg Acres Burned\n",
       "0     Alameda        199.593750\n",
       "1      Alpine          0.000000\n",
       "2      Amador        483.461538\n",
       "3       Butte       2889.424242\n",
       "4   Calaveras        120.363636"
      ]
     },
     "execution_count": 54,
     "metadata": {},
     "output_type": "execute_result"
    }
   ],
   "source": [
    "# External Dataset 3: California Wildfire Data (AVG Acres Burned for Each County)\n",
    "# Cite: https://www.kaggle.com/ananthu017/california-wildfire-incidents-20132020 \n",
    "\n",
    "fire = pd.read_csv('data/California_Fire_Incidents.csv')\n",
    "cal_fire = fire[fire['AcresBurned'].notna()]\n",
    "cal_fire = cal_fire.groupby('Counties').agg(np.mean).reset_index().rename(columns={'Counties':'County Name', 'AcresBurned' : 'Avg Acres Burned'})\n",
    "cal_fire = cal_fire.iloc[:, :2]\n",
    "cal_fire.head()\n"
   ]
  },
  {
   "cell_type": "code",
   "execution_count": 55,
   "id": "dac8f71c-68ff-43f4-9870-f7d69d0b6894",
   "metadata": {},
   "outputs": [
    {
     "data": {
      "text/html": [
       "<div>\n",
       "<style scoped>\n",
       "    .dataframe tbody tr th:only-of-type {\n",
       "        vertical-align: middle;\n",
       "    }\n",
       "\n",
       "    .dataframe tbody tr th {\n",
       "        vertical-align: top;\n",
       "    }\n",
       "\n",
       "    .dataframe thead th {\n",
       "        text-align: right;\n",
       "    }\n",
       "</style>\n",
       "<table border=\"1\" class=\"dataframe\">\n",
       "  <thead>\n",
       "    <tr style=\"text-align: right;\">\n",
       "      <th></th>\n",
       "      <th>State Name</th>\n",
       "      <th>County Name</th>\n",
       "      <th>Defining Site</th>\n",
       "      <th>Site Num</th>\n",
       "      <th>Month</th>\n",
       "      <th>Day</th>\n",
       "      <th>Latitude</th>\n",
       "      <th>Longitude</th>\n",
       "      <th>ozone</th>\n",
       "      <th>Wind</th>\n",
       "      <th>...</th>\n",
       "      <th>Temp norm</th>\n",
       "      <th>AADT norm</th>\n",
       "      <th>AQI bins</th>\n",
       "      <th>County Code</th>\n",
       "      <th>Site Number</th>\n",
       "      <th>Elevation</th>\n",
       "      <th>Land Use</th>\n",
       "      <th>Land Use Num</th>\n",
       "      <th>Population Density (ppl per sq km)</th>\n",
       "      <th>Avg Acres Burned</th>\n",
       "    </tr>\n",
       "  </thead>\n",
       "  <tbody>\n",
       "    <tr>\n",
       "      <th>0</th>\n",
       "      <td>California</td>\n",
       "      <td>Amador</td>\n",
       "      <td>06-005-0002</td>\n",
       "      <td>2</td>\n",
       "      <td>1</td>\n",
       "      <td>1</td>\n",
       "      <td>38.342606</td>\n",
       "      <td>-120.764426</td>\n",
       "      <td>0.027</td>\n",
       "      <td>4.4</td>\n",
       "      <td>...</td>\n",
       "      <td>0.345263</td>\n",
       "      <td>0.021981</td>\n",
       "      <td>good</td>\n",
       "      <td>5</td>\n",
       "      <td>2</td>\n",
       "      <td>377.0</td>\n",
       "      <td>COMMERCIAL</td>\n",
       "      <td>0</td>\n",
       "      <td>24.565345</td>\n",
       "      <td>483.461538</td>\n",
       "    </tr>\n",
       "    <tr>\n",
       "      <th>1</th>\n",
       "      <td>California</td>\n",
       "      <td>Amador</td>\n",
       "      <td>06-005-0002</td>\n",
       "      <td>2</td>\n",
       "      <td>1</td>\n",
       "      <td>2</td>\n",
       "      <td>38.342606</td>\n",
       "      <td>-120.764426</td>\n",
       "      <td>0.019</td>\n",
       "      <td>3.6</td>\n",
       "      <td>...</td>\n",
       "      <td>0.352632</td>\n",
       "      <td>0.021981</td>\n",
       "      <td>good</td>\n",
       "      <td>5</td>\n",
       "      <td>2</td>\n",
       "      <td>377.0</td>\n",
       "      <td>COMMERCIAL</td>\n",
       "      <td>0</td>\n",
       "      <td>24.565345</td>\n",
       "      <td>483.461538</td>\n",
       "    </tr>\n",
       "    <tr>\n",
       "      <th>2</th>\n",
       "      <td>California</td>\n",
       "      <td>Amador</td>\n",
       "      <td>06-005-0002</td>\n",
       "      <td>2</td>\n",
       "      <td>1</td>\n",
       "      <td>3</td>\n",
       "      <td>38.342606</td>\n",
       "      <td>-120.764426</td>\n",
       "      <td>0.020</td>\n",
       "      <td>3.9</td>\n",
       "      <td>...</td>\n",
       "      <td>0.373684</td>\n",
       "      <td>0.021981</td>\n",
       "      <td>good</td>\n",
       "      <td>5</td>\n",
       "      <td>2</td>\n",
       "      <td>377.0</td>\n",
       "      <td>COMMERCIAL</td>\n",
       "      <td>0</td>\n",
       "      <td>24.565345</td>\n",
       "      <td>483.461538</td>\n",
       "    </tr>\n",
       "    <tr>\n",
       "      <th>3</th>\n",
       "      <td>California</td>\n",
       "      <td>Amador</td>\n",
       "      <td>06-005-0002</td>\n",
       "      <td>2</td>\n",
       "      <td>1</td>\n",
       "      <td>8</td>\n",
       "      <td>38.342606</td>\n",
       "      <td>-120.764426</td>\n",
       "      <td>0.025</td>\n",
       "      <td>3.1</td>\n",
       "      <td>...</td>\n",
       "      <td>0.247368</td>\n",
       "      <td>0.021981</td>\n",
       "      <td>good</td>\n",
       "      <td>5</td>\n",
       "      <td>2</td>\n",
       "      <td>377.0</td>\n",
       "      <td>COMMERCIAL</td>\n",
       "      <td>0</td>\n",
       "      <td>24.565345</td>\n",
       "      <td>483.461538</td>\n",
       "    </tr>\n",
       "    <tr>\n",
       "      <th>4</th>\n",
       "      <td>California</td>\n",
       "      <td>Amador</td>\n",
       "      <td>06-005-0002</td>\n",
       "      <td>2</td>\n",
       "      <td>1</td>\n",
       "      <td>9</td>\n",
       "      <td>38.342606</td>\n",
       "      <td>-120.764426</td>\n",
       "      <td>0.027</td>\n",
       "      <td>2.7</td>\n",
       "      <td>...</td>\n",
       "      <td>0.220000</td>\n",
       "      <td>0.021981</td>\n",
       "      <td>good</td>\n",
       "      <td>5</td>\n",
       "      <td>2</td>\n",
       "      <td>377.0</td>\n",
       "      <td>COMMERCIAL</td>\n",
       "      <td>0</td>\n",
       "      <td>24.565345</td>\n",
       "      <td>483.461538</td>\n",
       "    </tr>\n",
       "  </tbody>\n",
       "</table>\n",
       "<p>5 rows × 25 columns</p>\n",
       "</div>"
      ],
      "text/plain": [
       "   State Name County Name Defining Site  Site Num  Month  Day   Latitude  \\\n",
       "0  California      Amador   06-005-0002         2      1    1  38.342606   \n",
       "1  California      Amador   06-005-0002         2      1    2  38.342606   \n",
       "2  California      Amador   06-005-0002         2      1    3  38.342606   \n",
       "3  California      Amador   06-005-0002         2      1    8  38.342606   \n",
       "4  California      Amador   06-005-0002         2      1    9  38.342606   \n",
       "\n",
       "    Longitude  ozone  Wind  ...  Temp norm  AADT norm  AQI bins  County Code  \\\n",
       "0 -120.764426  0.027   4.4  ...   0.345263   0.021981      good            5   \n",
       "1 -120.764426  0.019   3.6  ...   0.352632   0.021981      good            5   \n",
       "2 -120.764426  0.020   3.9  ...   0.373684   0.021981      good            5   \n",
       "3 -120.764426  0.025   3.1  ...   0.247368   0.021981      good            5   \n",
       "4 -120.764426  0.027   2.7  ...   0.220000   0.021981      good            5   \n",
       "\n",
       "   Site Number  Elevation    Land Use Land Use Num  \\\n",
       "0            2      377.0  COMMERCIAL            0   \n",
       "1            2      377.0  COMMERCIAL            0   \n",
       "2            2      377.0  COMMERCIAL            0   \n",
       "3            2      377.0  COMMERCIAL            0   \n",
       "4            2      377.0  COMMERCIAL            0   \n",
       "\n",
       "   Population Density (ppl per sq km)  Avg Acres Burned  \n",
       "0                           24.565345        483.461538  \n",
       "1                           24.565345        483.461538  \n",
       "2                           24.565345        483.461538  \n",
       "3                           24.565345        483.461538  \n",
       "4                           24.565345        483.461538  \n",
       "\n",
       "[5 rows x 25 columns]"
      ]
     },
     "execution_count": 55,
     "metadata": {},
     "output_type": "execute_result"
    }
   ],
   "source": [
    "# Merge our dataframe from Q11a with the 2 external datasets to get a fully merged dataframe.\n",
    "\n",
    "fully_merged = internal_merged.merge(pop_den_ca, how='inner', on='County Name').merge(cal_fire, how='inner', on='County Name')\n",
    "fully_merged.head()"
   ]
  },
  {
   "cell_type": "code",
   "execution_count": 56,
   "id": "dd233912-e747-4cf1-be76-64fb4fa9a19f",
   "metadata": {},
   "outputs": [
    {
     "data": {
      "text/html": [
       "<div>\n",
       "<style scoped>\n",
       "    .dataframe tbody tr th:only-of-type {\n",
       "        vertical-align: middle;\n",
       "    }\n",
       "\n",
       "    .dataframe tbody tr th {\n",
       "        vertical-align: top;\n",
       "    }\n",
       "\n",
       "    .dataframe thead th {\n",
       "        text-align: right;\n",
       "    }\n",
       "</style>\n",
       "<table border=\"1\" class=\"dataframe\">\n",
       "  <thead>\n",
       "    <tr style=\"text-align: right;\">\n",
       "      <th></th>\n",
       "      <th>County Code</th>\n",
       "      <th>Site Number</th>\n",
       "      <th>Latitude</th>\n",
       "      <th>Longitude</th>\n",
       "      <th>Month</th>\n",
       "      <th>Day</th>\n",
       "      <th>Elevation</th>\n",
       "      <th>ozone</th>\n",
       "      <th>Wind</th>\n",
       "      <th>Temp</th>\n",
       "      <th>Avg Acres Burned</th>\n",
       "      <th>Land Use Num</th>\n",
       "      <th>AADT</th>\n",
       "      <th>Population Density (ppl per sq km)</th>\n",
       "    </tr>\n",
       "  </thead>\n",
       "  <tbody>\n",
       "    <tr>\n",
       "      <th>0</th>\n",
       "      <td>5</td>\n",
       "      <td>2</td>\n",
       "      <td>38.342606</td>\n",
       "      <td>-120.764426</td>\n",
       "      <td>1</td>\n",
       "      <td>1</td>\n",
       "      <td>377.0</td>\n",
       "      <td>0.027</td>\n",
       "      <td>4.4</td>\n",
       "      <td>58.8</td>\n",
       "      <td>483.461538</td>\n",
       "      <td>0</td>\n",
       "      <td>15600</td>\n",
       "      <td>24.565345</td>\n",
       "    </tr>\n",
       "    <tr>\n",
       "      <th>1</th>\n",
       "      <td>5</td>\n",
       "      <td>2</td>\n",
       "      <td>38.342606</td>\n",
       "      <td>-120.764426</td>\n",
       "      <td>1</td>\n",
       "      <td>2</td>\n",
       "      <td>377.0</td>\n",
       "      <td>0.019</td>\n",
       "      <td>3.6</td>\n",
       "      <td>59.5</td>\n",
       "      <td>483.461538</td>\n",
       "      <td>0</td>\n",
       "      <td>15600</td>\n",
       "      <td>24.565345</td>\n",
       "    </tr>\n",
       "    <tr>\n",
       "      <th>2</th>\n",
       "      <td>5</td>\n",
       "      <td>2</td>\n",
       "      <td>38.342606</td>\n",
       "      <td>-120.764426</td>\n",
       "      <td>1</td>\n",
       "      <td>3</td>\n",
       "      <td>377.0</td>\n",
       "      <td>0.020</td>\n",
       "      <td>3.9</td>\n",
       "      <td>61.5</td>\n",
       "      <td>483.461538</td>\n",
       "      <td>0</td>\n",
       "      <td>15600</td>\n",
       "      <td>24.565345</td>\n",
       "    </tr>\n",
       "    <tr>\n",
       "      <th>3</th>\n",
       "      <td>5</td>\n",
       "      <td>2</td>\n",
       "      <td>38.342606</td>\n",
       "      <td>-120.764426</td>\n",
       "      <td>1</td>\n",
       "      <td>8</td>\n",
       "      <td>377.0</td>\n",
       "      <td>0.025</td>\n",
       "      <td>3.1</td>\n",
       "      <td>49.5</td>\n",
       "      <td>483.461538</td>\n",
       "      <td>0</td>\n",
       "      <td>15600</td>\n",
       "      <td>24.565345</td>\n",
       "    </tr>\n",
       "    <tr>\n",
       "      <th>4</th>\n",
       "      <td>5</td>\n",
       "      <td>2</td>\n",
       "      <td>38.342606</td>\n",
       "      <td>-120.764426</td>\n",
       "      <td>1</td>\n",
       "      <td>9</td>\n",
       "      <td>377.0</td>\n",
       "      <td>0.027</td>\n",
       "      <td>2.7</td>\n",
       "      <td>46.9</td>\n",
       "      <td>483.461538</td>\n",
       "      <td>0</td>\n",
       "      <td>15600</td>\n",
       "      <td>24.565345</td>\n",
       "    </tr>\n",
       "  </tbody>\n",
       "</table>\n",
       "</div>"
      ],
      "text/plain": [
       "   County Code  Site Number   Latitude   Longitude  Month  Day  Elevation  \\\n",
       "0            5            2  38.342606 -120.764426      1    1      377.0   \n",
       "1            5            2  38.342606 -120.764426      1    2      377.0   \n",
       "2            5            2  38.342606 -120.764426      1    3      377.0   \n",
       "3            5            2  38.342606 -120.764426      1    8      377.0   \n",
       "4            5            2  38.342606 -120.764426      1    9      377.0   \n",
       "\n",
       "   ozone  Wind  Temp  Avg Acres Burned  Land Use Num   AADT  \\\n",
       "0  0.027   4.4  58.8        483.461538             0  15600   \n",
       "1  0.019   3.6  59.5        483.461538             0  15600   \n",
       "2  0.020   3.9  61.5        483.461538             0  15600   \n",
       "3  0.025   3.1  49.5        483.461538             0  15600   \n",
       "4  0.027   2.7  46.9        483.461538             0  15600   \n",
       "\n",
       "   Population Density (ppl per sq km)  \n",
       "0                           24.565345  \n",
       "1                           24.565345  \n",
       "2                           24.565345  \n",
       "3                           24.565345  \n",
       "4                           24.565345  "
      ]
     },
     "execution_count": 56,
     "metadata": {},
     "output_type": "execute_result"
    }
   ],
   "source": [
    "# Initialize the features and targets for our improved model which includes features from \n",
    "# additional features from AQI dataset and features from 3 external datasets (traffic, pop density, wildfires)\n",
    "\n",
    "full_features = fully_merged[['County Code', 'Site Number', 'Latitude', 'Longitude', 'Month', 'Day', 'Elevation',\n",
    "                              'ozone', 'Wind', 'Temp', 'Avg Acres Burned','Land Use Num','AADT', \n",
    "                              'Population Density (ppl per sq km)']]\n",
    "\n",
    "full_targets = np.array(fully_merged['AQI bins'])\n",
    "\n",
    "full_features.head()"
   ]
  },
  {
   "cell_type": "code",
   "execution_count": 57,
   "id": "ca92d357-8ba4-46b7-8384-2b47e0099d64",
   "metadata": {},
   "outputs": [
    {
     "data": {
      "text/plain": [
       "(0.10816657652785289, 0.1584640346133045)"
      ]
     },
     "execution_count": 57,
     "metadata": {},
     "output_type": "execute_result"
    }
   ],
   "source": [
    "# With our random forest classifier build model and predict functions from Q11a, we can build and predict with \n",
    "# our improved model which uses more features from our AQI dataset and uses other features from external datasets.\n",
    "# After building the model, we will split our data into training and validation sets. We then predict then find the\n",
    "# binary error and cv error to access the new model.\n",
    "\n",
    "X_train_full, X_val_full, y_train_full, y_val_full = train_test_split(full_features, full_targets, train_size = 0.8, random_state=11)\n",
    "\n",
    "val_predict_full = predict_forest(build_model_forest(X_train_full, y_train_full), X_val_full)\n",
    "mapping_full = {'good' : 1, 'moderate' : 2, 'unhealthy sensitive groups' : 3, 'unhealthy' : 4, 'very unhealthy' : 5, 'hazardous' : 6}\n",
    "\n",
    "converted_predictions_full = np.array([mapping_full[val] for val in val_predict_full])\n",
    "converted_actual_full = np.array([mapping_full[val] for val in y_val_full])\n",
    "\n",
    "binary_error_full = 1 - np.sum(val_predict_full == y_val_full)/len(X_val_full) \n",
    "cv_error_full = np.mean((np.abs(converted_predictions_full - converted_actual_full))**2)\n",
    "\n",
    "binary_error_full, cv_error_full"
   ]
  },
  {
   "cell_type": "code",
   "execution_count": 58,
   "id": "109ebe81-8530-47d9-b4df-6a4c1bdf8645",
   "metadata": {},
   "outputs": [],
   "source": [
    "# # A visualization of the first tree from our random forest. May take a while to load.\n",
    "# # Running running this cell I can't export the file.\n",
    "# # I am therefore commenting this cell out for now.\n",
    "\n",
    "# from sklearn.tree import export_graphviz\n",
    "# import graphviz\n",
    "\n",
    "# tree1 = export_graphviz(build_model_forest(X_train_full, y_train_full).estimators_[0],\n",
    "#                 out_file = None,\n",
    "#                 feature_names= X_train_full.columns,\n",
    "#                 class_names = ['good', 'moderate', 'unhealthy sensitive groups', 'unhealthy','very unhealthy', 'hazardous'],\n",
    "#                 filled = True,\n",
    "#                 rounded = True,\n",
    "#                 special_characters = True)\n",
    "\n",
    "# graph = graphviz.Source(tree1, format='png')\n",
    "# graph"
   ]
  },
  {
   "cell_type": "code",
   "execution_count": 59,
   "id": "7d311a48-2c67-4760-9632-70d36db85c23",
   "metadata": {},
   "outputs": [
    {
     "data": {
      "image/png": "[encoded data removed]",
      "text/plain": [
       "<Figure size 432x288 with 1 Axes>"
      ]
     },
     "metadata": {
      "needs_background": "light"
     },
     "output_type": "display_data"
    }
   ],
   "source": [
    "# Visualization of the ranking the importance of all our features.\n",
    "\n",
    "clf = RandomForestClassifier()\n",
    "\n",
    "clf.fit(X_train_full, y_train_full)\n",
    "feature_imp = pd.Series(clf.feature_importances_,index=X_val_full.columns).sort_values(ascending=False)\n",
    "sns.barplot(x=feature_imp, y=feature_imp.index)\n",
    "plt.xlabel('Feature Importance Score')\n",
    "plt.ylabel('Features')\n",
    "plt.title(\"Visualizing Important Features\")\n",
    "plt.show();"
   ]
  },
  {
   "cell_type": "markdown",
   "id": "62956358",
   "metadata": {
    "deletable": false,
    "editable": false
   },
   "source": [
    "<!-- END QUESTION -->\n",
    "\n",
    "<!-- BEGIN QUESTION -->\n",
    "\n",
    "### Question 11d\n",
    "\n",
    "Compare and contrast your baseline model and (hopefully) improved model. Make sure to compare their validation errors. Were you able to successfully answer your research question and evaluate your hypothesis? Summarize in a few sentences the conclusions that you can draw from your model and predictions. The expected length of your response should be 8-10 sentences. \n",
    "\n",
    "<!--\n",
    "BEGIN QUESTION\n",
    "name: q11d\n",
    "points: 3\n",
    "manual: True\n",
    "-->"
   ]
  },
  {
   "cell_type": "markdown",
   "id": "c541f7ef",
   "metadata": {},
   "source": [
    "By adding additional features from our AQI dataset and features from 3 external datasets (traffic, population density, wildfires) we were able to drastically improve our model. Our hypothesis was that there is a positive correlation between elevation and AQI levels in California due to the effects of global warming and thus higher threat of wildfires. Our initial baseline model which only used 3 features (temperature, county, and elevation) was not enough and did not fit well due to high bias. To better pinpoint locations of certain elevations to support our hypothesis and fit our model, we added additional features such as site number, lat/long, month and day, ozone levels, wind speed, temperature, avg acres burned from wildfires, land use, AADT, and population density. With our improved model, we got a binary error of around 0.11 which is a lot lower than our baseline model which had a binary error of around 0.36. Utiliziing our loss function form Q9, our improved model resulted in a cv error on the validation set of around 0.16 which is also a lot lower than the cv error of the baseline model which was around 0.6. By comparing the validation errors (binary and cv), we can clearly see that our new model has improved from our baseline model by a good margin.\n",
    "\n",
    "This analysis and modeling has definitely helped us successfully answer our research question and evaluate our hypothesis. We hypothesized that there is a positive correlation between elevation and AQI levels in California due to the effects of global warming and thus higher threat of wildfires. By adding additional features from the AQI dataset and from external datasets to make our model more refined towards our hypothesis, we saw huge improvements in the new model's performance to predict AQI levels/categories. This improvement shows that by refining our model towards our hypothesis, our validation of our hypothesis also increases.\n",
    "\n",
    "In summary, our hypothesis seems to be correct due to the improvemnts we see in our model when we refine it towards the hypothesis. Thus, features relating to elevation and wildfires such as: general location (county and site), exact location (latitude and longitude), day and month, elevation, ozone level, wind speed, temperature, wildfire data (avg acres burned), land use, AADT, and county population density can all be good predictive features of AQI levels/categories. By intuition these features make sense. Certain locations in California are more prone to wildfires (Rancho Palos Verdes, Calabasas, La Cañada Flintridge) because of climate change and past wildfire experience. These locations are usually high in elevation. By looking at these features plus more specific features such as wind speed, AADT, population density, etc (features in our model), we can better predict AQI levels/categories."
   ]
  },
  {
   "cell_type": "markdown",
   "id": "a8758917",
   "metadata": {
    "deletable": false,
    "editable": false
   },
   "source": [
    "---\n",
    "\n",
    "To double-check your work, the cell below will rerun all of the autograder tests."
   ]
  },
  {
   "cell_type": "code",
   "execution_count": 60,
   "id": "4521edc4",
   "metadata": {
    "deletable": false,
    "editable": false
   },
   "outputs": [
    {
     "data": {
      "text/plain": [
       "q10b results: All test cases passed!\n",
       "\n",
       "q10c results: All test cases passed!\n",
       "\n",
       "q10d results: All test cases passed!\n",
       "\n",
       "q10e results: All test cases passed!\n",
       "\n",
       "q1a results: All test cases passed!\n",
       "\n",
       "q1b results: All test cases passed!\n",
       "\n",
       "q1c results: All test cases passed!\n",
       "\n",
       "q2a results: All test cases passed!\n",
       "\n",
       "q2b results: All test cases passed!\n",
       "\n",
       "q3a results: All test cases passed!\n",
       "\n",
       "q4a results: All test cases passed!\n",
       "\n",
       "q4i results: All test cases passed!\n",
       "\n",
       "q5a results: All test cases passed!\n",
       "\n",
       "q6a results: All test cases passed!\n",
       "\n",
       "q6b results: All test cases passed!\n",
       "\n",
       "q8a results: All test cases passed!\n",
       "\n",
       "q8b results: All test cases passed!"
      ]
     },
     "execution_count": 60,
     "metadata": {},
     "output_type": "execute_result"
    }
   ],
   "source": [
    "grader.check_all()"
   ]
  },
  {
   "cell_type": "markdown",
   "id": "9946713b",
   "metadata": {
    "deletable": false,
    "editable": false
   },
   "source": [
    "## Submission\n",
    "\n",
    "Make sure you have run all cells in your notebook in order before running the cell below, so that all images/graphs appear in the output. The cell below will generate a zip file for you to submit. **Please save before exporting!**"
   ]
  },
  {
   "cell_type": "code",
   "execution_count": 61,
   "id": "d43d5a5c",
   "metadata": {
    "deletable": false,
    "editable": false
   },
   "outputs": [
    {
     "data": {
      "text/html": [
       "\n",
       "            <p>Your submission has been exported. Click <a href=\"AQI_2021_12_13T18_30_35_736723.zip\" download=\"AQI_2021_12_13T18_30_35_736723.zip\" target=\"_blank\">here</a>\n",
       "            to download the zip file.</p>\n",
       "            "
      ],
      "text/plain": [
       "<IPython.core.display.HTML object>"
      ]
     },
     "metadata": {},
     "output_type": "display_data"
    }
   ],
   "source": [
    "# Save your notebook first, then run this cell to export your submission.\n",
    "grader.export()"
   ]
  },
  {
   "cell_type": "markdown",
   "id": "b6d88d47",
   "metadata": {},
   "source": [
    " "
   ]
  }
 ],
 "metadata": {
  "kernelspec": {
   "display_name": "Python 3 (ipykernel)",
   "language": "python",
   "name": "python3"
  },
  "language_info": {
   "codemirror_mode": {
    "name": "ipython",
    "version": 3
   },
   "file_extension": ".py",
   "mimetype": "text/x-python",
   "name": "python",
   "nbconvert_exporter": "python",
   "pygments_lexer": "ipython3",
   "version": "3.9.13"
  }
 },
 "nbformat": 4,
 "nbformat_minor": 5
}
